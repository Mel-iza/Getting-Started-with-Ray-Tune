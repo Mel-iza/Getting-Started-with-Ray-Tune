{
  "nbformat": 4,
  "nbformat_minor": 0,
  "metadata": {
    "colab": {
      "provenance": [],
      "authorship_tag": "ABX9TyO3J70GPQxXN0tKTrq1Ggq5",
      "include_colab_link": true
    },
    "kernelspec": {
      "name": "python3",
      "display_name": "Python 3"
    },
    "language_info": {
      "name": "python"
    },
    "widgets": {
      "application/vnd.jupyter.widget-state+json": {
        "77bfc2bae23240148ad8e79fdcecda4f": {
          "model_module": "@jupyter-widgets/controls",
          "model_name": "HBoxModel",
          "model_module_version": "1.5.0",
          "state": {
            "_dom_classes": [],
            "_model_module": "@jupyter-widgets/controls",
            "_model_module_version": "1.5.0",
            "_model_name": "HBoxModel",
            "_view_count": null,
            "_view_module": "@jupyter-widgets/controls",
            "_view_module_version": "1.5.0",
            "_view_name": "HBoxView",
            "box_style": "",
            "children": [
              "IPY_MODEL_e166731508034fa2b7192444c307cbe3",
              "IPY_MODEL_c2f8ccabac2940f9aa8b75753e4fdb5f",
              "IPY_MODEL_39514362543345bab9111908e089f1fe"
            ],
            "layout": "IPY_MODEL_d8b8091001ea4da0a58e31ea1f2868c3"
          }
        },
        "e166731508034fa2b7192444c307cbe3": {
          "model_module": "@jupyter-widgets/controls",
          "model_name": "HTMLModel",
          "model_module_version": "1.5.0",
          "state": {
            "_dom_classes": [],
            "_model_module": "@jupyter-widgets/controls",
            "_model_module_version": "1.5.0",
            "_model_name": "HTMLModel",
            "_view_count": null,
            "_view_module": "@jupyter-widgets/controls",
            "_view_module_version": "1.5.0",
            "_view_name": "HTMLView",
            "description": "",
            "description_tooltip": null,
            "layout": "IPY_MODEL_6303dc6a491a44b3ba6a62cd92705652",
            "placeholder": "​",
            "style": "IPY_MODEL_65abc1814b9c4e3dbbff05cd52c3e9e6",
            "value": "100%"
          }
        },
        "c2f8ccabac2940f9aa8b75753e4fdb5f": {
          "model_module": "@jupyter-widgets/controls",
          "model_name": "FloatProgressModel",
          "model_module_version": "1.5.0",
          "state": {
            "_dom_classes": [],
            "_model_module": "@jupyter-widgets/controls",
            "_model_module_version": "1.5.0",
            "_model_name": "FloatProgressModel",
            "_view_count": null,
            "_view_module": "@jupyter-widgets/controls",
            "_view_module_version": "1.5.0",
            "_view_name": "ProgressView",
            "bar_style": "success",
            "description": "",
            "description_tooltip": null,
            "layout": "IPY_MODEL_81bcaa284bc24ded9c2ca13cdaaa83f0",
            "max": 9912422,
            "min": 0,
            "orientation": "horizontal",
            "style": "IPY_MODEL_8644d27bdbe646d787284edf81485414",
            "value": 9912422
          }
        },
        "39514362543345bab9111908e089f1fe": {
          "model_module": "@jupyter-widgets/controls",
          "model_name": "HTMLModel",
          "model_module_version": "1.5.0",
          "state": {
            "_dom_classes": [],
            "_model_module": "@jupyter-widgets/controls",
            "_model_module_version": "1.5.0",
            "_model_name": "HTMLModel",
            "_view_count": null,
            "_view_module": "@jupyter-widgets/controls",
            "_view_module_version": "1.5.0",
            "_view_name": "HTMLView",
            "description": "",
            "description_tooltip": null,
            "layout": "IPY_MODEL_d46244fb3e954cc7815b4922f3dfa590",
            "placeholder": "​",
            "style": "IPY_MODEL_2d88353712ab4279b76e2059aaa5b81a",
            "value": " 9912422/9912422 [00:00&lt;00:00, 12430365.54it/s]"
          }
        },
        "d8b8091001ea4da0a58e31ea1f2868c3": {
          "model_module": "@jupyter-widgets/base",
          "model_name": "LayoutModel",
          "model_module_version": "1.2.0",
          "state": {
            "_model_module": "@jupyter-widgets/base",
            "_model_module_version": "1.2.0",
            "_model_name": "LayoutModel",
            "_view_count": null,
            "_view_module": "@jupyter-widgets/base",
            "_view_module_version": "1.2.0",
            "_view_name": "LayoutView",
            "align_content": null,
            "align_items": null,
            "align_self": null,
            "border": null,
            "bottom": null,
            "display": null,
            "flex": null,
            "flex_flow": null,
            "grid_area": null,
            "grid_auto_columns": null,
            "grid_auto_flow": null,
            "grid_auto_rows": null,
            "grid_column": null,
            "grid_gap": null,
            "grid_row": null,
            "grid_template_areas": null,
            "grid_template_columns": null,
            "grid_template_rows": null,
            "height": null,
            "justify_content": null,
            "justify_items": null,
            "left": null,
            "margin": null,
            "max_height": null,
            "max_width": null,
            "min_height": null,
            "min_width": null,
            "object_fit": null,
            "object_position": null,
            "order": null,
            "overflow": null,
            "overflow_x": null,
            "overflow_y": null,
            "padding": null,
            "right": null,
            "top": null,
            "visibility": null,
            "width": null
          }
        },
        "6303dc6a491a44b3ba6a62cd92705652": {
          "model_module": "@jupyter-widgets/base",
          "model_name": "LayoutModel",
          "model_module_version": "1.2.0",
          "state": {
            "_model_module": "@jupyter-widgets/base",
            "_model_module_version": "1.2.0",
            "_model_name": "LayoutModel",
            "_view_count": null,
            "_view_module": "@jupyter-widgets/base",
            "_view_module_version": "1.2.0",
            "_view_name": "LayoutView",
            "align_content": null,
            "align_items": null,
            "align_self": null,
            "border": null,
            "bottom": null,
            "display": null,
            "flex": null,
            "flex_flow": null,
            "grid_area": null,
            "grid_auto_columns": null,
            "grid_auto_flow": null,
            "grid_auto_rows": null,
            "grid_column": null,
            "grid_gap": null,
            "grid_row": null,
            "grid_template_areas": null,
            "grid_template_columns": null,
            "grid_template_rows": null,
            "height": null,
            "justify_content": null,
            "justify_items": null,
            "left": null,
            "margin": null,
            "max_height": null,
            "max_width": null,
            "min_height": null,
            "min_width": null,
            "object_fit": null,
            "object_position": null,
            "order": null,
            "overflow": null,
            "overflow_x": null,
            "overflow_y": null,
            "padding": null,
            "right": null,
            "top": null,
            "visibility": null,
            "width": null
          }
        },
        "65abc1814b9c4e3dbbff05cd52c3e9e6": {
          "model_module": "@jupyter-widgets/controls",
          "model_name": "DescriptionStyleModel",
          "model_module_version": "1.5.0",
          "state": {
            "_model_module": "@jupyter-widgets/controls",
            "_model_module_version": "1.5.0",
            "_model_name": "DescriptionStyleModel",
            "_view_count": null,
            "_view_module": "@jupyter-widgets/base",
            "_view_module_version": "1.2.0",
            "_view_name": "StyleView",
            "description_width": ""
          }
        },
        "81bcaa284bc24ded9c2ca13cdaaa83f0": {
          "model_module": "@jupyter-widgets/base",
          "model_name": "LayoutModel",
          "model_module_version": "1.2.0",
          "state": {
            "_model_module": "@jupyter-widgets/base",
            "_model_module_version": "1.2.0",
            "_model_name": "LayoutModel",
            "_view_count": null,
            "_view_module": "@jupyter-widgets/base",
            "_view_module_version": "1.2.0",
            "_view_name": "LayoutView",
            "align_content": null,
            "align_items": null,
            "align_self": null,
            "border": null,
            "bottom": null,
            "display": null,
            "flex": null,
            "flex_flow": null,
            "grid_area": null,
            "grid_auto_columns": null,
            "grid_auto_flow": null,
            "grid_auto_rows": null,
            "grid_column": null,
            "grid_gap": null,
            "grid_row": null,
            "grid_template_areas": null,
            "grid_template_columns": null,
            "grid_template_rows": null,
            "height": null,
            "justify_content": null,
            "justify_items": null,
            "left": null,
            "margin": null,
            "max_height": null,
            "max_width": null,
            "min_height": null,
            "min_width": null,
            "object_fit": null,
            "object_position": null,
            "order": null,
            "overflow": null,
            "overflow_x": null,
            "overflow_y": null,
            "padding": null,
            "right": null,
            "top": null,
            "visibility": null,
            "width": null
          }
        },
        "8644d27bdbe646d787284edf81485414": {
          "model_module": "@jupyter-widgets/controls",
          "model_name": "ProgressStyleModel",
          "model_module_version": "1.5.0",
          "state": {
            "_model_module": "@jupyter-widgets/controls",
            "_model_module_version": "1.5.0",
            "_model_name": "ProgressStyleModel",
            "_view_count": null,
            "_view_module": "@jupyter-widgets/base",
            "_view_module_version": "1.2.0",
            "_view_name": "StyleView",
            "bar_color": null,
            "description_width": ""
          }
        },
        "d46244fb3e954cc7815b4922f3dfa590": {
          "model_module": "@jupyter-widgets/base",
          "model_name": "LayoutModel",
          "model_module_version": "1.2.0",
          "state": {
            "_model_module": "@jupyter-widgets/base",
            "_model_module_version": "1.2.0",
            "_model_name": "LayoutModel",
            "_view_count": null,
            "_view_module": "@jupyter-widgets/base",
            "_view_module_version": "1.2.0",
            "_view_name": "LayoutView",
            "align_content": null,
            "align_items": null,
            "align_self": null,
            "border": null,
            "bottom": null,
            "display": null,
            "flex": null,
            "flex_flow": null,
            "grid_area": null,
            "grid_auto_columns": null,
            "grid_auto_flow": null,
            "grid_auto_rows": null,
            "grid_column": null,
            "grid_gap": null,
            "grid_row": null,
            "grid_template_areas": null,
            "grid_template_columns": null,
            "grid_template_rows": null,
            "height": null,
            "justify_content": null,
            "justify_items": null,
            "left": null,
            "margin": null,
            "max_height": null,
            "max_width": null,
            "min_height": null,
            "min_width": null,
            "object_fit": null,
            "object_position": null,
            "order": null,
            "overflow": null,
            "overflow_x": null,
            "overflow_y": null,
            "padding": null,
            "right": null,
            "top": null,
            "visibility": null,
            "width": null
          }
        },
        "2d88353712ab4279b76e2059aaa5b81a": {
          "model_module": "@jupyter-widgets/controls",
          "model_name": "DescriptionStyleModel",
          "model_module_version": "1.5.0",
          "state": {
            "_model_module": "@jupyter-widgets/controls",
            "_model_module_version": "1.5.0",
            "_model_name": "DescriptionStyleModel",
            "_view_count": null,
            "_view_module": "@jupyter-widgets/base",
            "_view_module_version": "1.2.0",
            "_view_name": "StyleView",
            "description_width": ""
          }
        },
        "10e9ceae946f49a49d5e7f9ec7f79437": {
          "model_module": "@jupyter-widgets/controls",
          "model_name": "HBoxModel",
          "model_module_version": "1.5.0",
          "state": {
            "_dom_classes": [],
            "_model_module": "@jupyter-widgets/controls",
            "_model_module_version": "1.5.0",
            "_model_name": "HBoxModel",
            "_view_count": null,
            "_view_module": "@jupyter-widgets/controls",
            "_view_module_version": "1.5.0",
            "_view_name": "HBoxView",
            "box_style": "",
            "children": [
              "IPY_MODEL_167eb0da6d95444184c23b61a0be9a7f",
              "IPY_MODEL_f72a8cb5daeb4aa99c99c2f401ac4c27",
              "IPY_MODEL_eafda7fd9af8475e81222bb4284ade20"
            ],
            "layout": "IPY_MODEL_d5b9b3c8051946b8bda0f6653ce4a58d"
          }
        },
        "167eb0da6d95444184c23b61a0be9a7f": {
          "model_module": "@jupyter-widgets/controls",
          "model_name": "HTMLModel",
          "model_module_version": "1.5.0",
          "state": {
            "_dom_classes": [],
            "_model_module": "@jupyter-widgets/controls",
            "_model_module_version": "1.5.0",
            "_model_name": "HTMLModel",
            "_view_count": null,
            "_view_module": "@jupyter-widgets/controls",
            "_view_module_version": "1.5.0",
            "_view_name": "HTMLView",
            "description": "",
            "description_tooltip": null,
            "layout": "IPY_MODEL_d3ddf587b31a4929adf29096c54ebd94",
            "placeholder": "​",
            "style": "IPY_MODEL_83a82d2763fc4dfdb5c3a5654adfb82f",
            "value": "100%"
          }
        },
        "f72a8cb5daeb4aa99c99c2f401ac4c27": {
          "model_module": "@jupyter-widgets/controls",
          "model_name": "FloatProgressModel",
          "model_module_version": "1.5.0",
          "state": {
            "_dom_classes": [],
            "_model_module": "@jupyter-widgets/controls",
            "_model_module_version": "1.5.0",
            "_model_name": "FloatProgressModel",
            "_view_count": null,
            "_view_module": "@jupyter-widgets/controls",
            "_view_module_version": "1.5.0",
            "_view_name": "ProgressView",
            "bar_style": "success",
            "description": "",
            "description_tooltip": null,
            "layout": "IPY_MODEL_2ed2dde91bda4157a2053003afed739f",
            "max": 28881,
            "min": 0,
            "orientation": "horizontal",
            "style": "IPY_MODEL_2a319de4fde24bb7a653e088e95c15c0",
            "value": 28881
          }
        },
        "eafda7fd9af8475e81222bb4284ade20": {
          "model_module": "@jupyter-widgets/controls",
          "model_name": "HTMLModel",
          "model_module_version": "1.5.0",
          "state": {
            "_dom_classes": [],
            "_model_module": "@jupyter-widgets/controls",
            "_model_module_version": "1.5.0",
            "_model_name": "HTMLModel",
            "_view_count": null,
            "_view_module": "@jupyter-widgets/controls",
            "_view_module_version": "1.5.0",
            "_view_name": "HTMLView",
            "description": "",
            "description_tooltip": null,
            "layout": "IPY_MODEL_2b2bb3eede1a4c58833d15a624d65b80",
            "placeholder": "​",
            "style": "IPY_MODEL_55393804711c4645989591c1607610fa",
            "value": " 28881/28881 [00:00&lt;00:00, 1398763.24it/s]"
          }
        },
        "d5b9b3c8051946b8bda0f6653ce4a58d": {
          "model_module": "@jupyter-widgets/base",
          "model_name": "LayoutModel",
          "model_module_version": "1.2.0",
          "state": {
            "_model_module": "@jupyter-widgets/base",
            "_model_module_version": "1.2.0",
            "_model_name": "LayoutModel",
            "_view_count": null,
            "_view_module": "@jupyter-widgets/base",
            "_view_module_version": "1.2.0",
            "_view_name": "LayoutView",
            "align_content": null,
            "align_items": null,
            "align_self": null,
            "border": null,
            "bottom": null,
            "display": null,
            "flex": null,
            "flex_flow": null,
            "grid_area": null,
            "grid_auto_columns": null,
            "grid_auto_flow": null,
            "grid_auto_rows": null,
            "grid_column": null,
            "grid_gap": null,
            "grid_row": null,
            "grid_template_areas": null,
            "grid_template_columns": null,
            "grid_template_rows": null,
            "height": null,
            "justify_content": null,
            "justify_items": null,
            "left": null,
            "margin": null,
            "max_height": null,
            "max_width": null,
            "min_height": null,
            "min_width": null,
            "object_fit": null,
            "object_position": null,
            "order": null,
            "overflow": null,
            "overflow_x": null,
            "overflow_y": null,
            "padding": null,
            "right": null,
            "top": null,
            "visibility": null,
            "width": null
          }
        },
        "d3ddf587b31a4929adf29096c54ebd94": {
          "model_module": "@jupyter-widgets/base",
          "model_name": "LayoutModel",
          "model_module_version": "1.2.0",
          "state": {
            "_model_module": "@jupyter-widgets/base",
            "_model_module_version": "1.2.0",
            "_model_name": "LayoutModel",
            "_view_count": null,
            "_view_module": "@jupyter-widgets/base",
            "_view_module_version": "1.2.0",
            "_view_name": "LayoutView",
            "align_content": null,
            "align_items": null,
            "align_self": null,
            "border": null,
            "bottom": null,
            "display": null,
            "flex": null,
            "flex_flow": null,
            "grid_area": null,
            "grid_auto_columns": null,
            "grid_auto_flow": null,
            "grid_auto_rows": null,
            "grid_column": null,
            "grid_gap": null,
            "grid_row": null,
            "grid_template_areas": null,
            "grid_template_columns": null,
            "grid_template_rows": null,
            "height": null,
            "justify_content": null,
            "justify_items": null,
            "left": null,
            "margin": null,
            "max_height": null,
            "max_width": null,
            "min_height": null,
            "min_width": null,
            "object_fit": null,
            "object_position": null,
            "order": null,
            "overflow": null,
            "overflow_x": null,
            "overflow_y": null,
            "padding": null,
            "right": null,
            "top": null,
            "visibility": null,
            "width": null
          }
        },
        "83a82d2763fc4dfdb5c3a5654adfb82f": {
          "model_module": "@jupyter-widgets/controls",
          "model_name": "DescriptionStyleModel",
          "model_module_version": "1.5.0",
          "state": {
            "_model_module": "@jupyter-widgets/controls",
            "_model_module_version": "1.5.0",
            "_model_name": "DescriptionStyleModel",
            "_view_count": null,
            "_view_module": "@jupyter-widgets/base",
            "_view_module_version": "1.2.0",
            "_view_name": "StyleView",
            "description_width": ""
          }
        },
        "2ed2dde91bda4157a2053003afed739f": {
          "model_module": "@jupyter-widgets/base",
          "model_name": "LayoutModel",
          "model_module_version": "1.2.0",
          "state": {
            "_model_module": "@jupyter-widgets/base",
            "_model_module_version": "1.2.0",
            "_model_name": "LayoutModel",
            "_view_count": null,
            "_view_module": "@jupyter-widgets/base",
            "_view_module_version": "1.2.0",
            "_view_name": "LayoutView",
            "align_content": null,
            "align_items": null,
            "align_self": null,
            "border": null,
            "bottom": null,
            "display": null,
            "flex": null,
            "flex_flow": null,
            "grid_area": null,
            "grid_auto_columns": null,
            "grid_auto_flow": null,
            "grid_auto_rows": null,
            "grid_column": null,
            "grid_gap": null,
            "grid_row": null,
            "grid_template_areas": null,
            "grid_template_columns": null,
            "grid_template_rows": null,
            "height": null,
            "justify_content": null,
            "justify_items": null,
            "left": null,
            "margin": null,
            "max_height": null,
            "max_width": null,
            "min_height": null,
            "min_width": null,
            "object_fit": null,
            "object_position": null,
            "order": null,
            "overflow": null,
            "overflow_x": null,
            "overflow_y": null,
            "padding": null,
            "right": null,
            "top": null,
            "visibility": null,
            "width": null
          }
        },
        "2a319de4fde24bb7a653e088e95c15c0": {
          "model_module": "@jupyter-widgets/controls",
          "model_name": "ProgressStyleModel",
          "model_module_version": "1.5.0",
          "state": {
            "_model_module": "@jupyter-widgets/controls",
            "_model_module_version": "1.5.0",
            "_model_name": "ProgressStyleModel",
            "_view_count": null,
            "_view_module": "@jupyter-widgets/base",
            "_view_module_version": "1.2.0",
            "_view_name": "StyleView",
            "bar_color": null,
            "description_width": ""
          }
        },
        "2b2bb3eede1a4c58833d15a624d65b80": {
          "model_module": "@jupyter-widgets/base",
          "model_name": "LayoutModel",
          "model_module_version": "1.2.0",
          "state": {
            "_model_module": "@jupyter-widgets/base",
            "_model_module_version": "1.2.0",
            "_model_name": "LayoutModel",
            "_view_count": null,
            "_view_module": "@jupyter-widgets/base",
            "_view_module_version": "1.2.0",
            "_view_name": "LayoutView",
            "align_content": null,
            "align_items": null,
            "align_self": null,
            "border": null,
            "bottom": null,
            "display": null,
            "flex": null,
            "flex_flow": null,
            "grid_area": null,
            "grid_auto_columns": null,
            "grid_auto_flow": null,
            "grid_auto_rows": null,
            "grid_column": null,
            "grid_gap": null,
            "grid_row": null,
            "grid_template_areas": null,
            "grid_template_columns": null,
            "grid_template_rows": null,
            "height": null,
            "justify_content": null,
            "justify_items": null,
            "left": null,
            "margin": null,
            "max_height": null,
            "max_width": null,
            "min_height": null,
            "min_width": null,
            "object_fit": null,
            "object_position": null,
            "order": null,
            "overflow": null,
            "overflow_x": null,
            "overflow_y": null,
            "padding": null,
            "right": null,
            "top": null,
            "visibility": null,
            "width": null
          }
        },
        "55393804711c4645989591c1607610fa": {
          "model_module": "@jupyter-widgets/controls",
          "model_name": "DescriptionStyleModel",
          "model_module_version": "1.5.0",
          "state": {
            "_model_module": "@jupyter-widgets/controls",
            "_model_module_version": "1.5.0",
            "_model_name": "DescriptionStyleModel",
            "_view_count": null,
            "_view_module": "@jupyter-widgets/base",
            "_view_module_version": "1.2.0",
            "_view_name": "StyleView",
            "description_width": ""
          }
        },
        "78fa8e60d7444ff5b09d4c999a51bc80": {
          "model_module": "@jupyter-widgets/controls",
          "model_name": "HBoxModel",
          "model_module_version": "1.5.0",
          "state": {
            "_dom_classes": [],
            "_model_module": "@jupyter-widgets/controls",
            "_model_module_version": "1.5.0",
            "_model_name": "HBoxModel",
            "_view_count": null,
            "_view_module": "@jupyter-widgets/controls",
            "_view_module_version": "1.5.0",
            "_view_name": "HBoxView",
            "box_style": "",
            "children": [
              "IPY_MODEL_04981095be3c4983a56943ef53695a1a",
              "IPY_MODEL_06861e3c3ed843a1b92e2fa63fed1e13",
              "IPY_MODEL_942f87cce54e41fea9e5be49d62988be"
            ],
            "layout": "IPY_MODEL_e761fc7baf9a4479b8050476e215d6ff"
          }
        },
        "04981095be3c4983a56943ef53695a1a": {
          "model_module": "@jupyter-widgets/controls",
          "model_name": "HTMLModel",
          "model_module_version": "1.5.0",
          "state": {
            "_dom_classes": [],
            "_model_module": "@jupyter-widgets/controls",
            "_model_module_version": "1.5.0",
            "_model_name": "HTMLModel",
            "_view_count": null,
            "_view_module": "@jupyter-widgets/controls",
            "_view_module_version": "1.5.0",
            "_view_name": "HTMLView",
            "description": "",
            "description_tooltip": null,
            "layout": "IPY_MODEL_b8f8e8102aa14c5f9f796740778b1b93",
            "placeholder": "​",
            "style": "IPY_MODEL_968209c9b9504d88a0ffefe95925e06a",
            "value": "100%"
          }
        },
        "06861e3c3ed843a1b92e2fa63fed1e13": {
          "model_module": "@jupyter-widgets/controls",
          "model_name": "FloatProgressModel",
          "model_module_version": "1.5.0",
          "state": {
            "_dom_classes": [],
            "_model_module": "@jupyter-widgets/controls",
            "_model_module_version": "1.5.0",
            "_model_name": "FloatProgressModel",
            "_view_count": null,
            "_view_module": "@jupyter-widgets/controls",
            "_view_module_version": "1.5.0",
            "_view_name": "ProgressView",
            "bar_style": "success",
            "description": "",
            "description_tooltip": null,
            "layout": "IPY_MODEL_416ac8d4fea343f2b4ee4e56def89272",
            "max": 1648877,
            "min": 0,
            "orientation": "horizontal",
            "style": "IPY_MODEL_164d1dbf72ed44f79f2bc4b11faa161f",
            "value": 1648877
          }
        },
        "942f87cce54e41fea9e5be49d62988be": {
          "model_module": "@jupyter-widgets/controls",
          "model_name": "HTMLModel",
          "model_module_version": "1.5.0",
          "state": {
            "_dom_classes": [],
            "_model_module": "@jupyter-widgets/controls",
            "_model_module_version": "1.5.0",
            "_model_name": "HTMLModel",
            "_view_count": null,
            "_view_module": "@jupyter-widgets/controls",
            "_view_module_version": "1.5.0",
            "_view_name": "HTMLView",
            "description": "",
            "description_tooltip": null,
            "layout": "IPY_MODEL_63dbede37f8043169d8db096177fdb04",
            "placeholder": "​",
            "style": "IPY_MODEL_a637d970bdb443dca790d5701f8dfa9f",
            "value": " 1648877/1648877 [00:00&lt;00:00, 10683419.42it/s]"
          }
        },
        "e761fc7baf9a4479b8050476e215d6ff": {
          "model_module": "@jupyter-widgets/base",
          "model_name": "LayoutModel",
          "model_module_version": "1.2.0",
          "state": {
            "_model_module": "@jupyter-widgets/base",
            "_model_module_version": "1.2.0",
            "_model_name": "LayoutModel",
            "_view_count": null,
            "_view_module": "@jupyter-widgets/base",
            "_view_module_version": "1.2.0",
            "_view_name": "LayoutView",
            "align_content": null,
            "align_items": null,
            "align_self": null,
            "border": null,
            "bottom": null,
            "display": null,
            "flex": null,
            "flex_flow": null,
            "grid_area": null,
            "grid_auto_columns": null,
            "grid_auto_flow": null,
            "grid_auto_rows": null,
            "grid_column": null,
            "grid_gap": null,
            "grid_row": null,
            "grid_template_areas": null,
            "grid_template_columns": null,
            "grid_template_rows": null,
            "height": null,
            "justify_content": null,
            "justify_items": null,
            "left": null,
            "margin": null,
            "max_height": null,
            "max_width": null,
            "min_height": null,
            "min_width": null,
            "object_fit": null,
            "object_position": null,
            "order": null,
            "overflow": null,
            "overflow_x": null,
            "overflow_y": null,
            "padding": null,
            "right": null,
            "top": null,
            "visibility": null,
            "width": null
          }
        },
        "b8f8e8102aa14c5f9f796740778b1b93": {
          "model_module": "@jupyter-widgets/base",
          "model_name": "LayoutModel",
          "model_module_version": "1.2.0",
          "state": {
            "_model_module": "@jupyter-widgets/base",
            "_model_module_version": "1.2.0",
            "_model_name": "LayoutModel",
            "_view_count": null,
            "_view_module": "@jupyter-widgets/base",
            "_view_module_version": "1.2.0",
            "_view_name": "LayoutView",
            "align_content": null,
            "align_items": null,
            "align_self": null,
            "border": null,
            "bottom": null,
            "display": null,
            "flex": null,
            "flex_flow": null,
            "grid_area": null,
            "grid_auto_columns": null,
            "grid_auto_flow": null,
            "grid_auto_rows": null,
            "grid_column": null,
            "grid_gap": null,
            "grid_row": null,
            "grid_template_areas": null,
            "grid_template_columns": null,
            "grid_template_rows": null,
            "height": null,
            "justify_content": null,
            "justify_items": null,
            "left": null,
            "margin": null,
            "max_height": null,
            "max_width": null,
            "min_height": null,
            "min_width": null,
            "object_fit": null,
            "object_position": null,
            "order": null,
            "overflow": null,
            "overflow_x": null,
            "overflow_y": null,
            "padding": null,
            "right": null,
            "top": null,
            "visibility": null,
            "width": null
          }
        },
        "968209c9b9504d88a0ffefe95925e06a": {
          "model_module": "@jupyter-widgets/controls",
          "model_name": "DescriptionStyleModel",
          "model_module_version": "1.5.0",
          "state": {
            "_model_module": "@jupyter-widgets/controls",
            "_model_module_version": "1.5.0",
            "_model_name": "DescriptionStyleModel",
            "_view_count": null,
            "_view_module": "@jupyter-widgets/base",
            "_view_module_version": "1.2.0",
            "_view_name": "StyleView",
            "description_width": ""
          }
        },
        "416ac8d4fea343f2b4ee4e56def89272": {
          "model_module": "@jupyter-widgets/base",
          "model_name": "LayoutModel",
          "model_module_version": "1.2.0",
          "state": {
            "_model_module": "@jupyter-widgets/base",
            "_model_module_version": "1.2.0",
            "_model_name": "LayoutModel",
            "_view_count": null,
            "_view_module": "@jupyter-widgets/base",
            "_view_module_version": "1.2.0",
            "_view_name": "LayoutView",
            "align_content": null,
            "align_items": null,
            "align_self": null,
            "border": null,
            "bottom": null,
            "display": null,
            "flex": null,
            "flex_flow": null,
            "grid_area": null,
            "grid_auto_columns": null,
            "grid_auto_flow": null,
            "grid_auto_rows": null,
            "grid_column": null,
            "grid_gap": null,
            "grid_row": null,
            "grid_template_areas": null,
            "grid_template_columns": null,
            "grid_template_rows": null,
            "height": null,
            "justify_content": null,
            "justify_items": null,
            "left": null,
            "margin": null,
            "max_height": null,
            "max_width": null,
            "min_height": null,
            "min_width": null,
            "object_fit": null,
            "object_position": null,
            "order": null,
            "overflow": null,
            "overflow_x": null,
            "overflow_y": null,
            "padding": null,
            "right": null,
            "top": null,
            "visibility": null,
            "width": null
          }
        },
        "164d1dbf72ed44f79f2bc4b11faa161f": {
          "model_module": "@jupyter-widgets/controls",
          "model_name": "ProgressStyleModel",
          "model_module_version": "1.5.0",
          "state": {
            "_model_module": "@jupyter-widgets/controls",
            "_model_module_version": "1.5.0",
            "_model_name": "ProgressStyleModel",
            "_view_count": null,
            "_view_module": "@jupyter-widgets/base",
            "_view_module_version": "1.2.0",
            "_view_name": "StyleView",
            "bar_color": null,
            "description_width": ""
          }
        },
        "63dbede37f8043169d8db096177fdb04": {
          "model_module": "@jupyter-widgets/base",
          "model_name": "LayoutModel",
          "model_module_version": "1.2.0",
          "state": {
            "_model_module": "@jupyter-widgets/base",
            "_model_module_version": "1.2.0",
            "_model_name": "LayoutModel",
            "_view_count": null,
            "_view_module": "@jupyter-widgets/base",
            "_view_module_version": "1.2.0",
            "_view_name": "LayoutView",
            "align_content": null,
            "align_items": null,
            "align_self": null,
            "border": null,
            "bottom": null,
            "display": null,
            "flex": null,
            "flex_flow": null,
            "grid_area": null,
            "grid_auto_columns": null,
            "grid_auto_flow": null,
            "grid_auto_rows": null,
            "grid_column": null,
            "grid_gap": null,
            "grid_row": null,
            "grid_template_areas": null,
            "grid_template_columns": null,
            "grid_template_rows": null,
            "height": null,
            "justify_content": null,
            "justify_items": null,
            "left": null,
            "margin": null,
            "max_height": null,
            "max_width": null,
            "min_height": null,
            "min_width": null,
            "object_fit": null,
            "object_position": null,
            "order": null,
            "overflow": null,
            "overflow_x": null,
            "overflow_y": null,
            "padding": null,
            "right": null,
            "top": null,
            "visibility": null,
            "width": null
          }
        },
        "a637d970bdb443dca790d5701f8dfa9f": {
          "model_module": "@jupyter-widgets/controls",
          "model_name": "DescriptionStyleModel",
          "model_module_version": "1.5.0",
          "state": {
            "_model_module": "@jupyter-widgets/controls",
            "_model_module_version": "1.5.0",
            "_model_name": "DescriptionStyleModel",
            "_view_count": null,
            "_view_module": "@jupyter-widgets/base",
            "_view_module_version": "1.2.0",
            "_view_name": "StyleView",
            "description_width": ""
          }
        },
        "2a0ad114a8a244f2934599e978989426": {
          "model_module": "@jupyter-widgets/controls",
          "model_name": "HBoxModel",
          "model_module_version": "1.5.0",
          "state": {
            "_dom_classes": [],
            "_model_module": "@jupyter-widgets/controls",
            "_model_module_version": "1.5.0",
            "_model_name": "HBoxModel",
            "_view_count": null,
            "_view_module": "@jupyter-widgets/controls",
            "_view_module_version": "1.5.0",
            "_view_name": "HBoxView",
            "box_style": "",
            "children": [
              "IPY_MODEL_b6b2eed3259f40dda3354c6d4be09d5e",
              "IPY_MODEL_4f5e29bda09a4bcdb36ad736335192e6",
              "IPY_MODEL_78e651265d334d3dae6d9e02c4ddff41"
            ],
            "layout": "IPY_MODEL_82df992f3f2143ebbd77e1f5df371803"
          }
        },
        "b6b2eed3259f40dda3354c6d4be09d5e": {
          "model_module": "@jupyter-widgets/controls",
          "model_name": "HTMLModel",
          "model_module_version": "1.5.0",
          "state": {
            "_dom_classes": [],
            "_model_module": "@jupyter-widgets/controls",
            "_model_module_version": "1.5.0",
            "_model_name": "HTMLModel",
            "_view_count": null,
            "_view_module": "@jupyter-widgets/controls",
            "_view_module_version": "1.5.0",
            "_view_name": "HTMLView",
            "description": "",
            "description_tooltip": null,
            "layout": "IPY_MODEL_57c78044a05e45d389fea1fecc591465",
            "placeholder": "​",
            "style": "IPY_MODEL_aba2cca59ede487eb657570ce25848b4",
            "value": "100%"
          }
        },
        "4f5e29bda09a4bcdb36ad736335192e6": {
          "model_module": "@jupyter-widgets/controls",
          "model_name": "FloatProgressModel",
          "model_module_version": "1.5.0",
          "state": {
            "_dom_classes": [],
            "_model_module": "@jupyter-widgets/controls",
            "_model_module_version": "1.5.0",
            "_model_name": "FloatProgressModel",
            "_view_count": null,
            "_view_module": "@jupyter-widgets/controls",
            "_view_module_version": "1.5.0",
            "_view_name": "ProgressView",
            "bar_style": "success",
            "description": "",
            "description_tooltip": null,
            "layout": "IPY_MODEL_812de5a6fde4461ab4beeeb243084af6",
            "max": 4542,
            "min": 0,
            "orientation": "horizontal",
            "style": "IPY_MODEL_9b49bfed33d44dfc81dec8cf798b992e",
            "value": 4542
          }
        },
        "78e651265d334d3dae6d9e02c4ddff41": {
          "model_module": "@jupyter-widgets/controls",
          "model_name": "HTMLModel",
          "model_module_version": "1.5.0",
          "state": {
            "_dom_classes": [],
            "_model_module": "@jupyter-widgets/controls",
            "_model_module_version": "1.5.0",
            "_model_name": "HTMLModel",
            "_view_count": null,
            "_view_module": "@jupyter-widgets/controls",
            "_view_module_version": "1.5.0",
            "_view_name": "HTMLView",
            "description": "",
            "description_tooltip": null,
            "layout": "IPY_MODEL_babbe1df575844ba8829582ecb38c8a9",
            "placeholder": "​",
            "style": "IPY_MODEL_26a87517aba44f0fa0609cab683985e4",
            "value": " 4542/4542 [00:00&lt;00:00, 154664.81it/s]"
          }
        },
        "82df992f3f2143ebbd77e1f5df371803": {
          "model_module": "@jupyter-widgets/base",
          "model_name": "LayoutModel",
          "model_module_version": "1.2.0",
          "state": {
            "_model_module": "@jupyter-widgets/base",
            "_model_module_version": "1.2.0",
            "_model_name": "LayoutModel",
            "_view_count": null,
            "_view_module": "@jupyter-widgets/base",
            "_view_module_version": "1.2.0",
            "_view_name": "LayoutView",
            "align_content": null,
            "align_items": null,
            "align_self": null,
            "border": null,
            "bottom": null,
            "display": null,
            "flex": null,
            "flex_flow": null,
            "grid_area": null,
            "grid_auto_columns": null,
            "grid_auto_flow": null,
            "grid_auto_rows": null,
            "grid_column": null,
            "grid_gap": null,
            "grid_row": null,
            "grid_template_areas": null,
            "grid_template_columns": null,
            "grid_template_rows": null,
            "height": null,
            "justify_content": null,
            "justify_items": null,
            "left": null,
            "margin": null,
            "max_height": null,
            "max_width": null,
            "min_height": null,
            "min_width": null,
            "object_fit": null,
            "object_position": null,
            "order": null,
            "overflow": null,
            "overflow_x": null,
            "overflow_y": null,
            "padding": null,
            "right": null,
            "top": null,
            "visibility": null,
            "width": null
          }
        },
        "57c78044a05e45d389fea1fecc591465": {
          "model_module": "@jupyter-widgets/base",
          "model_name": "LayoutModel",
          "model_module_version": "1.2.0",
          "state": {
            "_model_module": "@jupyter-widgets/base",
            "_model_module_version": "1.2.0",
            "_model_name": "LayoutModel",
            "_view_count": null,
            "_view_module": "@jupyter-widgets/base",
            "_view_module_version": "1.2.0",
            "_view_name": "LayoutView",
            "align_content": null,
            "align_items": null,
            "align_self": null,
            "border": null,
            "bottom": null,
            "display": null,
            "flex": null,
            "flex_flow": null,
            "grid_area": null,
            "grid_auto_columns": null,
            "grid_auto_flow": null,
            "grid_auto_rows": null,
            "grid_column": null,
            "grid_gap": null,
            "grid_row": null,
            "grid_template_areas": null,
            "grid_template_columns": null,
            "grid_template_rows": null,
            "height": null,
            "justify_content": null,
            "justify_items": null,
            "left": null,
            "margin": null,
            "max_height": null,
            "max_width": null,
            "min_height": null,
            "min_width": null,
            "object_fit": null,
            "object_position": null,
            "order": null,
            "overflow": null,
            "overflow_x": null,
            "overflow_y": null,
            "padding": null,
            "right": null,
            "top": null,
            "visibility": null,
            "width": null
          }
        },
        "aba2cca59ede487eb657570ce25848b4": {
          "model_module": "@jupyter-widgets/controls",
          "model_name": "DescriptionStyleModel",
          "model_module_version": "1.5.0",
          "state": {
            "_model_module": "@jupyter-widgets/controls",
            "_model_module_version": "1.5.0",
            "_model_name": "DescriptionStyleModel",
            "_view_count": null,
            "_view_module": "@jupyter-widgets/base",
            "_view_module_version": "1.2.0",
            "_view_name": "StyleView",
            "description_width": ""
          }
        },
        "812de5a6fde4461ab4beeeb243084af6": {
          "model_module": "@jupyter-widgets/base",
          "model_name": "LayoutModel",
          "model_module_version": "1.2.0",
          "state": {
            "_model_module": "@jupyter-widgets/base",
            "_model_module_version": "1.2.0",
            "_model_name": "LayoutModel",
            "_view_count": null,
            "_view_module": "@jupyter-widgets/base",
            "_view_module_version": "1.2.0",
            "_view_name": "LayoutView",
            "align_content": null,
            "align_items": null,
            "align_self": null,
            "border": null,
            "bottom": null,
            "display": null,
            "flex": null,
            "flex_flow": null,
            "grid_area": null,
            "grid_auto_columns": null,
            "grid_auto_flow": null,
            "grid_auto_rows": null,
            "grid_column": null,
            "grid_gap": null,
            "grid_row": null,
            "grid_template_areas": null,
            "grid_template_columns": null,
            "grid_template_rows": null,
            "height": null,
            "justify_content": null,
            "justify_items": null,
            "left": null,
            "margin": null,
            "max_height": null,
            "max_width": null,
            "min_height": null,
            "min_width": null,
            "object_fit": null,
            "object_position": null,
            "order": null,
            "overflow": null,
            "overflow_x": null,
            "overflow_y": null,
            "padding": null,
            "right": null,
            "top": null,
            "visibility": null,
            "width": null
          }
        },
        "9b49bfed33d44dfc81dec8cf798b992e": {
          "model_module": "@jupyter-widgets/controls",
          "model_name": "ProgressStyleModel",
          "model_module_version": "1.5.0",
          "state": {
            "_model_module": "@jupyter-widgets/controls",
            "_model_module_version": "1.5.0",
            "_model_name": "ProgressStyleModel",
            "_view_count": null,
            "_view_module": "@jupyter-widgets/base",
            "_view_module_version": "1.2.0",
            "_view_name": "StyleView",
            "bar_color": null,
            "description_width": ""
          }
        },
        "babbe1df575844ba8829582ecb38c8a9": {
          "model_module": "@jupyter-widgets/base",
          "model_name": "LayoutModel",
          "model_module_version": "1.2.0",
          "state": {
            "_model_module": "@jupyter-widgets/base",
            "_model_module_version": "1.2.0",
            "_model_name": "LayoutModel",
            "_view_count": null,
            "_view_module": "@jupyter-widgets/base",
            "_view_module_version": "1.2.0",
            "_view_name": "LayoutView",
            "align_content": null,
            "align_items": null,
            "align_self": null,
            "border": null,
            "bottom": null,
            "display": null,
            "flex": null,
            "flex_flow": null,
            "grid_area": null,
            "grid_auto_columns": null,
            "grid_auto_flow": null,
            "grid_auto_rows": null,
            "grid_column": null,
            "grid_gap": null,
            "grid_row": null,
            "grid_template_areas": null,
            "grid_template_columns": null,
            "grid_template_rows": null,
            "height": null,
            "justify_content": null,
            "justify_items": null,
            "left": null,
            "margin": null,
            "max_height": null,
            "max_width": null,
            "min_height": null,
            "min_width": null,
            "object_fit": null,
            "object_position": null,
            "order": null,
            "overflow": null,
            "overflow_x": null,
            "overflow_y": null,
            "padding": null,
            "right": null,
            "top": null,
            "visibility": null,
            "width": null
          }
        },
        "26a87517aba44f0fa0609cab683985e4": {
          "model_module": "@jupyter-widgets/controls",
          "model_name": "DescriptionStyleModel",
          "model_module_version": "1.5.0",
          "state": {
            "_model_module": "@jupyter-widgets/controls",
            "_model_module_version": "1.5.0",
            "_model_name": "DescriptionStyleModel",
            "_view_count": null,
            "_view_module": "@jupyter-widgets/base",
            "_view_module_version": "1.2.0",
            "_view_name": "StyleView",
            "description_width": ""
          }
        }
      }
    }
  },
  "cells": [
    {
      "cell_type": "markdown",
      "metadata": {
        "id": "view-in-github",
        "colab_type": "text"
      },
      "source": [
        "<a href=\"https://colab.research.google.com/github/Mel-iza/Getting-Started-with-Ray-Tune/blob/main/ray_tune_example.ipynb\" target=\"_parent\"><img src=\"https://colab.research.google.com/assets/colab-badge.svg\" alt=\"Open In Colab\"/></a>"
      ]
    },
    {
      "cell_type": "markdown",
      "source": [
        "<h2>Getting Started with Ray Tune</h2>\n",
        "This tutorial will walk you through the process of setting up a Tune experiment. To get started, we take a PyTorch model and show you how to leverage Ray Tune to optimize the hyperparameters of this model. Specifically, we’ll leverage early stopping and Bayesian Optimization via HyperOpt to do so.\n",
        "\n",
        "[Reference](https://docs.ray.io/en/latest/tune/getting-started.html#tune-tutorial)"
      ],
      "metadata": {
        "id": "7Q1PSofGOTAx"
      }
    },
    {
      "cell_type": "code",
      "execution_count": 1,
      "metadata": {
        "colab": {
          "base_uri": "https://localhost:8080/"
        },
        "id": "V2l_0yyhOCHm",
        "outputId": "f2ebb2d4-2fab-40a1-83bd-6711fca02ed8"
      },
      "outputs": [
        {
          "output_type": "stream",
          "name": "stdout",
          "text": [
            "Looking in indexes: https://pypi.org/simple, https://us-python.pkg.dev/colab-wheels/public/simple/\n",
            "Collecting ray[tune]\n",
            "  Downloading ray-2.3.1-cp39-cp39-manylinux2014_x86_64.whl (58.6 MB)\n",
            "\u001b[2K     \u001b[90m━━━━━━━━━━━━━━━━━━━━━━━━━━━━━━━━━━━━━━━━\u001b[0m \u001b[32m58.6/58.6 MB\u001b[0m \u001b[31m17.0 MB/s\u001b[0m eta \u001b[36m0:00:00\u001b[0m\n",
            "\u001b[?25hRequirement already satisfied: torch in /usr/local/lib/python3.9/dist-packages (1.13.1+cu116)\n",
            "Requirement already satisfied: torchvision in /usr/local/lib/python3.9/dist-packages (0.14.1+cu116)\n",
            "Requirement already satisfied: requests in /usr/local/lib/python3.9/dist-packages (from ray[tune]) (2.27.1)\n",
            "Requirement already satisfied: numpy>=1.19.3 in /usr/local/lib/python3.9/dist-packages (from ray[tune]) (1.22.4)\n",
            "Requirement already satisfied: msgpack<2.0.0,>=1.0.0 in /usr/local/lib/python3.9/dist-packages (from ray[tune]) (1.0.5)\n",
            "Collecting virtualenv>=20.0.24\n",
            "  Downloading virtualenv-20.21.0-py3-none-any.whl (8.7 MB)\n",
            "\u001b[2K     \u001b[90m━━━━━━━━━━━━━━━━━━━━━━━━━━━━━━━━━━━━━━━━\u001b[0m \u001b[32m8.7/8.7 MB\u001b[0m \u001b[31m17.0 MB/s\u001b[0m eta \u001b[36m0:00:00\u001b[0m\n",
            "\u001b[?25hRequirement already satisfied: pyyaml in /usr/local/lib/python3.9/dist-packages (from ray[tune]) (6.0)\n",
            "Requirement already satisfied: jsonschema in /usr/local/lib/python3.9/dist-packages (from ray[tune]) (4.3.3)\n",
            "Requirement already satisfied: filelock in /usr/local/lib/python3.9/dist-packages (from ray[tune]) (3.10.2)\n",
            "Requirement already satisfied: click>=7.0 in /usr/local/lib/python3.9/dist-packages (from ray[tune]) (8.1.3)\n",
            "Requirement already satisfied: protobuf!=3.19.5,>=3.15.3 in /usr/local/lib/python3.9/dist-packages (from ray[tune]) (3.19.6)\n",
            "Collecting frozenlist\n",
            "  Downloading frozenlist-1.3.3-cp39-cp39-manylinux_2_5_x86_64.manylinux1_x86_64.manylinux_2_17_x86_64.manylinux2014_x86_64.whl (158 kB)\n",
            "\u001b[2K     \u001b[90m━━━━━━━━━━━━━━━━━━━━━━━━━━━━━━━━━━━━━━━\u001b[0m \u001b[32m158.8/158.8 KB\u001b[0m \u001b[31m5.1 MB/s\u001b[0m eta \u001b[36m0:00:00\u001b[0m\n",
            "\u001b[?25hCollecting aiosignal\n",
            "  Downloading aiosignal-1.3.1-py3-none-any.whl (7.6 kB)\n",
            "Requirement already satisfied: grpcio>=1.32.0 in /usr/local/lib/python3.9/dist-packages (from ray[tune]) (1.51.3)\n",
            "Requirement already satisfied: attrs in /usr/local/lib/python3.9/dist-packages (from ray[tune]) (22.2.0)\n",
            "Requirement already satisfied: tabulate in /usr/local/lib/python3.9/dist-packages (from ray[tune]) (0.8.10)\n",
            "Collecting tensorboardX>=1.9\n",
            "  Downloading tensorboardX-2.6-py2.py3-none-any.whl (114 kB)\n",
            "\u001b[2K     \u001b[90m━━━━━━━━━━━━━━━━━━━━━━━━━━━━━━━━━━━━━━━\u001b[0m \u001b[32m114.5/114.5 KB\u001b[0m \u001b[31m6.9 MB/s\u001b[0m eta \u001b[36m0:00:00\u001b[0m\n",
            "\u001b[?25hRequirement already satisfied: pandas in /usr/local/lib/python3.9/dist-packages (from ray[tune]) (1.4.4)\n",
            "Requirement already satisfied: typing-extensions in /usr/local/lib/python3.9/dist-packages (from torch) (4.5.0)\n",
            "Requirement already satisfied: pillow!=8.3.*,>=5.3.0 in /usr/local/lib/python3.9/dist-packages (from torchvision) (8.4.0)\n",
            "Requirement already satisfied: packaging in /usr/local/lib/python3.9/dist-packages (from tensorboardX>=1.9->ray[tune]) (23.0)\n",
            "Requirement already satisfied: platformdirs<4,>=2.4 in /usr/local/lib/python3.9/dist-packages (from virtualenv>=20.0.24->ray[tune]) (3.1.1)\n",
            "Collecting distlib<1,>=0.3.6\n",
            "  Downloading distlib-0.3.6-py2.py3-none-any.whl (468 kB)\n",
            "\u001b[2K     \u001b[90m━━━━━━━━━━━━━━━━━━━━━━━━━━━━━━━━━━━━━━\u001b[0m \u001b[32m468.5/468.5 KB\u001b[0m \u001b[31m15.8 MB/s\u001b[0m eta \u001b[36m0:00:00\u001b[0m\n",
            "\u001b[?25hRequirement already satisfied: pyrsistent!=0.17.0,!=0.17.1,!=0.17.2,>=0.14.0 in /usr/local/lib/python3.9/dist-packages (from jsonschema->ray[tune]) (0.19.3)\n",
            "Requirement already satisfied: pytz>=2020.1 in /usr/local/lib/python3.9/dist-packages (from pandas->ray[tune]) (2022.7.1)\n",
            "Requirement already satisfied: python-dateutil>=2.8.1 in /usr/local/lib/python3.9/dist-packages (from pandas->ray[tune]) (2.8.2)\n",
            "Requirement already satisfied: idna<4,>=2.5 in /usr/local/lib/python3.9/dist-packages (from requests->ray[tune]) (3.4)\n",
            "Requirement already satisfied: charset-normalizer~=2.0.0 in /usr/local/lib/python3.9/dist-packages (from requests->ray[tune]) (2.0.12)\n",
            "Requirement already satisfied: certifi>=2017.4.17 in /usr/local/lib/python3.9/dist-packages (from requests->ray[tune]) (2022.12.7)\n",
            "Requirement already satisfied: urllib3<1.27,>=1.21.1 in /usr/local/lib/python3.9/dist-packages (from requests->ray[tune]) (1.26.15)\n",
            "Requirement already satisfied: six>=1.5 in /usr/local/lib/python3.9/dist-packages (from python-dateutil>=2.8.1->pandas->ray[tune]) (1.16.0)\n",
            "Installing collected packages: distlib, virtualenv, tensorboardX, frozenlist, aiosignal, ray\n",
            "Successfully installed aiosignal-1.3.1 distlib-0.3.6 frozenlist-1.3.3 ray-2.3.1 tensorboardX-2.6 virtualenv-20.21.0\n"
          ]
        }
      ],
      "source": [
        "!pip install \"ray[tune]\" torch torchvision"
      ]
    },
    {
      "cell_type": "markdown",
      "source": [
        "**Setting Up a Pytorch Model to Tune**"
      ],
      "metadata": {
        "id": "7nohujTOOf8w"
      }
    },
    {
      "cell_type": "code",
      "source": [
        "import numpy as np\n",
        "import torch\n",
        "import torch.optim as optim\n",
        "import torch.nn as nn\n",
        "from torchvision import datasets, transforms\n",
        "from torch.utils.data import DataLoader\n",
        "import torch.nn.functional as F\n",
        "\n",
        "from ray import air, tune\n",
        "from ray.tune.schedulers import ASHAScheduler"
      ],
      "metadata": {
        "id": "sGqCIG3lOJvv"
      },
      "execution_count": 2,
      "outputs": []
    },
    {
      "cell_type": "markdown",
      "source": [
        "Then, let’s define a simple PyTorch model that we’ll be training. If you’re not familiar with PyTorch, the simplest way to define a model is to implement a nn.Module. This requires you to set up your model with __init__ and then implement a forward pass. In this example we’re using a small convolutional neural network consisting of one 2D convolutional layer, a fully connected layer, and a softmax function."
      ],
      "metadata": {
        "id": "JAN5xaksOqPD"
      }
    },
    {
      "cell_type": "code",
      "source": [
        "class ConvNet(nn.Module):\n",
        "    def __init__(self):\n",
        "        super(ConvNet, self).__init__()\n",
        "        # In this example, we don't change the model architecture\n",
        "        # due to simplicity.\n",
        "        self.conv1 = nn.Conv2d(1, 3, kernel_size=3)\n",
        "        self.fc = nn.Linear(192, 10)\n",
        "\n",
        "    def forward(self, x):\n",
        "        x = F.relu(F.max_pool2d(self.conv1(x), 3))\n",
        "        x = x.view(-1, 192)\n",
        "        x = self.fc(x)\n",
        "        return F.log_softmax(x, dim=1)"
      ],
      "metadata": {
        "id": "e3riE3pROjSj"
      },
      "execution_count": 3,
      "outputs": []
    },
    {
      "cell_type": "code",
      "source": [
        "\n",
        "# Change these values if you want the training to run quicker or slower.\n",
        "EPOCH_SIZE = 512\n",
        "TEST_SIZE = 256\n",
        "\n",
        "def train(model, optimizer, train_loader):\n",
        "    device = torch.device(\"cuda\" if torch.cuda.is_available() else \"cpu\")\n",
        "    model.train()\n",
        "    for batch_idx, (data, target) in enumerate(train_loader):\n",
        "        # We set this just for the example to run quickly.\n",
        "        if batch_idx * len(data) > EPOCH_SIZE:\n",
        "            return\n",
        "        data, target = data.to(device), target.to(device)\n",
        "        optimizer.zero_grad()\n",
        "        output = model(data)\n",
        "        loss = F.nll_loss(output, target)\n",
        "        loss.backward()\n",
        "        optimizer.step()\n",
        "\n",
        "\n",
        "def test(model, data_loader):\n",
        "    device = torch.device(\"cuda\" if torch.cuda.is_available() else \"cpu\")\n",
        "    model.eval()\n",
        "    correct = 0\n",
        "    total = 0\n",
        "    with torch.no_grad():\n",
        "        for batch_idx, (data, target) in enumerate(data_loader):\n",
        "            # We set this just for the example to run quickly.\n",
        "            if batch_idx * len(data) > TEST_SIZE:\n",
        "                break\n",
        "            data, target = data.to(device), target.to(device)\n",
        "            outputs = model(data)\n",
        "            _, predicted = torch.max(outputs.data, 1)\n",
        "            total += target.size(0)\n",
        "            correct += (predicted == target).sum().item()\n",
        "\n",
        "    return correct / total"
      ],
      "metadata": {
        "id": "u3jvlruwOper"
      },
      "execution_count": 4,
      "outputs": []
    },
    {
      "cell_type": "markdown",
      "source": [
        "**Setting up a Tuner for a Training Run with Tune**"
      ],
      "metadata": {
        "id": "8lTp2ytRO2sw"
      }
    },
    {
      "cell_type": "code",
      "source": [
        "def train_mnist(config):\n",
        "    # Data Setup\n",
        "    mnist_transforms = transforms.Compose(\n",
        "        [transforms.ToTensor(),\n",
        "         transforms.Normalize((0.1307, ), (0.3081, ))])\n",
        "\n",
        "    train_loader = DataLoader(\n",
        "        datasets.MNIST(\"~/data\", train=True, download=True, transform=mnist_transforms),\n",
        "        batch_size=64,\n",
        "        shuffle=True)\n",
        "    test_loader = DataLoader(\n",
        "        datasets.MNIST(\"~/data\", train=False, transform=mnist_transforms),\n",
        "        batch_size=64,\n",
        "        shuffle=True)\n",
        "\n",
        "    device = torch.device(\"cuda\" if torch.cuda.is_available() else \"cpu\")\n",
        "\n",
        "    model = ConvNet()\n",
        "    model.to(device)\n",
        "\n",
        "    optimizer = optim.SGD(\n",
        "        model.parameters(), lr=config[\"lr\"], momentum=config[\"momentum\"])\n",
        "    for i in range(10):\n",
        "        train(model, optimizer, train_loader)\n",
        "        acc = test(model, test_loader)\n",
        "\n",
        "        # Send the current training result back to Tune\n",
        "        tune.report(mean_accuracy=acc)\n",
        "\n",
        "        if i % 5 == 0:\n",
        "            # This saves the model to the trial directory\n",
        "            torch.save(model.state_dict(), \"./model.pth\")"
      ],
      "metadata": {
        "id": "VNzp8J9RO01t"
      },
      "execution_count": 5,
      "outputs": []
    },
    {
      "cell_type": "code",
      "source": [
        "search_space = {\n",
        "    \"lr\": tune.sample_from(lambda spec: 10 ** (-10 * np.random.rand())),\n",
        "    \"momentum\": tune.uniform(0.1, 0.9),\n",
        "}\n",
        "\n",
        "# Uncomment this to enable distributed execution\n",
        "# `ray.init(address=\"auto\")`\n",
        "\n",
        "# Download the dataset first\n",
        "datasets.MNIST(\"~/data\", train=True, download=True)\n",
        "\n",
        "tuner = tune.Tuner(\n",
        "    train_mnist,\n",
        "    param_space=search_space,\n",
        ")\n",
        "results = tuner.fit()"
      ],
      "metadata": {
        "colab": {
          "base_uri": "https://localhost:8080/",
          "height": 752,
          "referenced_widgets": [
            "77bfc2bae23240148ad8e79fdcecda4f",
            "e166731508034fa2b7192444c307cbe3",
            "c2f8ccabac2940f9aa8b75753e4fdb5f",
            "39514362543345bab9111908e089f1fe",
            "d8b8091001ea4da0a58e31ea1f2868c3",
            "6303dc6a491a44b3ba6a62cd92705652",
            "65abc1814b9c4e3dbbff05cd52c3e9e6",
            "81bcaa284bc24ded9c2ca13cdaaa83f0",
            "8644d27bdbe646d787284edf81485414",
            "d46244fb3e954cc7815b4922f3dfa590",
            "2d88353712ab4279b76e2059aaa5b81a",
            "10e9ceae946f49a49d5e7f9ec7f79437",
            "167eb0da6d95444184c23b61a0be9a7f",
            "f72a8cb5daeb4aa99c99c2f401ac4c27",
            "eafda7fd9af8475e81222bb4284ade20",
            "d5b9b3c8051946b8bda0f6653ce4a58d",
            "d3ddf587b31a4929adf29096c54ebd94",
            "83a82d2763fc4dfdb5c3a5654adfb82f",
            "2ed2dde91bda4157a2053003afed739f",
            "2a319de4fde24bb7a653e088e95c15c0",
            "2b2bb3eede1a4c58833d15a624d65b80",
            "55393804711c4645989591c1607610fa",
            "78fa8e60d7444ff5b09d4c999a51bc80",
            "04981095be3c4983a56943ef53695a1a",
            "06861e3c3ed843a1b92e2fa63fed1e13",
            "942f87cce54e41fea9e5be49d62988be",
            "e761fc7baf9a4479b8050476e215d6ff",
            "b8f8e8102aa14c5f9f796740778b1b93",
            "968209c9b9504d88a0ffefe95925e06a",
            "416ac8d4fea343f2b4ee4e56def89272",
            "164d1dbf72ed44f79f2bc4b11faa161f",
            "63dbede37f8043169d8db096177fdb04",
            "a637d970bdb443dca790d5701f8dfa9f",
            "2a0ad114a8a244f2934599e978989426",
            "b6b2eed3259f40dda3354c6d4be09d5e",
            "4f5e29bda09a4bcdb36ad736335192e6",
            "78e651265d334d3dae6d9e02c4ddff41",
            "82df992f3f2143ebbd77e1f5df371803",
            "57c78044a05e45d389fea1fecc591465",
            "aba2cca59ede487eb657570ce25848b4",
            "812de5a6fde4461ab4beeeb243084af6",
            "9b49bfed33d44dfc81dec8cf798b992e",
            "babbe1df575844ba8829582ecb38c8a9",
            "26a87517aba44f0fa0609cab683985e4"
          ]
        },
        "id": "OGZKdkC2O9VP",
        "outputId": "9f1aecaa-9009-4cf7-bd91-450bff9306f5"
      },
      "execution_count": 6,
      "outputs": [
        {
          "output_type": "stream",
          "name": "stdout",
          "text": [
            "Downloading http://yann.lecun.com/exdb/mnist/train-images-idx3-ubyte.gz\n",
            "Downloading http://yann.lecun.com/exdb/mnist/train-images-idx3-ubyte.gz to /root/data/MNIST/raw/train-images-idx3-ubyte.gz\n"
          ]
        },
        {
          "output_type": "display_data",
          "data": {
            "text/plain": [
              "  0%|          | 0/9912422 [00:00<?, ?it/s]"
            ],
            "application/vnd.jupyter.widget-view+json": {
              "version_major": 2,
              "version_minor": 0,
              "model_id": "77bfc2bae23240148ad8e79fdcecda4f"
            }
          },
          "metadata": {}
        },
        {
          "output_type": "stream",
          "name": "stdout",
          "text": [
            "Extracting /root/data/MNIST/raw/train-images-idx3-ubyte.gz to /root/data/MNIST/raw\n",
            "\n",
            "Downloading http://yann.lecun.com/exdb/mnist/train-labels-idx1-ubyte.gz\n",
            "Downloading http://yann.lecun.com/exdb/mnist/train-labels-idx1-ubyte.gz to /root/data/MNIST/raw/train-labels-idx1-ubyte.gz\n"
          ]
        },
        {
          "output_type": "display_data",
          "data": {
            "text/plain": [
              "  0%|          | 0/28881 [00:00<?, ?it/s]"
            ],
            "application/vnd.jupyter.widget-view+json": {
              "version_major": 2,
              "version_minor": 0,
              "model_id": "10e9ceae946f49a49d5e7f9ec7f79437"
            }
          },
          "metadata": {}
        },
        {
          "output_type": "stream",
          "name": "stdout",
          "text": [
            "Extracting /root/data/MNIST/raw/train-labels-idx1-ubyte.gz to /root/data/MNIST/raw\n",
            "\n",
            "Downloading http://yann.lecun.com/exdb/mnist/t10k-images-idx3-ubyte.gz\n",
            "Downloading http://yann.lecun.com/exdb/mnist/t10k-images-idx3-ubyte.gz to /root/data/MNIST/raw/t10k-images-idx3-ubyte.gz\n"
          ]
        },
        {
          "output_type": "display_data",
          "data": {
            "text/plain": [
              "  0%|          | 0/1648877 [00:00<?, ?it/s]"
            ],
            "application/vnd.jupyter.widget-view+json": {
              "version_major": 2,
              "version_minor": 0,
              "model_id": "78fa8e60d7444ff5b09d4c999a51bc80"
            }
          },
          "metadata": {}
        },
        {
          "output_type": "stream",
          "name": "stdout",
          "text": [
            "Extracting /root/data/MNIST/raw/t10k-images-idx3-ubyte.gz to /root/data/MNIST/raw\n",
            "\n",
            "Downloading http://yann.lecun.com/exdb/mnist/t10k-labels-idx1-ubyte.gz\n",
            "Downloading http://yann.lecun.com/exdb/mnist/t10k-labels-idx1-ubyte.gz to /root/data/MNIST/raw/t10k-labels-idx1-ubyte.gz\n"
          ]
        },
        {
          "output_type": "display_data",
          "data": {
            "text/plain": [
              "  0%|          | 0/4542 [00:00<?, ?it/s]"
            ],
            "application/vnd.jupyter.widget-view+json": {
              "version_major": 2,
              "version_minor": 0,
              "model_id": "2a0ad114a8a244f2934599e978989426"
            }
          },
          "metadata": {}
        },
        {
          "output_type": "stream",
          "name": "stdout",
          "text": [
            "Extracting /root/data/MNIST/raw/t10k-labels-idx1-ubyte.gz to /root/data/MNIST/raw\n",
            "\n"
          ]
        },
        {
          "output_type": "stream",
          "name": "stderr",
          "text": [
            "2023-03-27 18:02:17,329\tINFO worker.py:1553 -- Started a local Ray instance.\n"
          ]
        },
        {
          "output_type": "display_data",
          "data": {
            "text/plain": [
              "<IPython.core.display.HTML object>"
            ],
            "text/html": [
              "<div class=\"tuneStatus\">\n",
              "  <div style=\"display: flex;flex-direction: row\">\n",
              "    <div style=\"display: flex;flex-direction: column;\">\n",
              "      <h3>Tune Status</h3>\n",
              "      <table>\n",
              "<tbody>\n",
              "<tr><td>Current time:</td><td>2023-03-27 18:02:26</td></tr>\n",
              "<tr><td>Running for: </td><td>00:00:07.39        </td></tr>\n",
              "<tr><td>Memory:      </td><td>1.7/12.7 GiB       </td></tr>\n",
              "</tbody>\n",
              "</table>\n",
              "    </div>\n",
              "    <div class=\"vDivider\"></div>\n",
              "    <div class=\"systemInfo\">\n",
              "      <h3>System Info</h3>\n",
              "      Using FIFO scheduling algorithm.<br>Resources requested: 0/2 CPUs, 0/0 GPUs, 0.0/7.38 GiB heap, 0.0/3.69 GiB objects\n",
              "    </div>\n",
              "    \n",
              "  </div>\n",
              "  <div class=\"hDivider\"></div>\n",
              "  <div class=\"trialStatus\">\n",
              "    <h3>Trial Status</h3>\n",
              "    <table>\n",
              "<thead>\n",
              "<tr><th>Trial name             </th><th>status    </th><th>loc             </th><th style=\"text-align: right;\">         lr</th><th style=\"text-align: right;\">  momentum</th><th style=\"text-align: right;\">     acc</th><th style=\"text-align: right;\">  iter</th><th style=\"text-align: right;\">  total time (s)</th></tr>\n",
              "</thead>\n",
              "<tbody>\n",
              "<tr><td>train_mnist_838e9_00000</td><td>TERMINATED</td><td>172.28.0.12:1435</td><td style=\"text-align: right;\">1.69689e-07</td><td style=\"text-align: right;\">  0.421018</td><td style=\"text-align: right;\">0.065625</td><td style=\"text-align: right;\">    10</td><td style=\"text-align: right;\">         3.82413</td></tr>\n",
              "</tbody>\n",
              "</table>\n",
              "  </div>\n",
              "</div>\n",
              "<style>\n",
              ".tuneStatus {\n",
              "  color: var(--jp-ui-font-color1);\n",
              "}\n",
              ".tuneStatus .systemInfo {\n",
              "  display: flex;\n",
              "  flex-direction: column;\n",
              "}\n",
              ".tuneStatus td {\n",
              "  white-space: nowrap;\n",
              "}\n",
              ".tuneStatus .trialStatus {\n",
              "  display: flex;\n",
              "  flex-direction: column;\n",
              "}\n",
              ".tuneStatus h3 {\n",
              "  font-weight: bold;\n",
              "}\n",
              ".tuneStatus .hDivider {\n",
              "  border-bottom-width: var(--jp-border-width);\n",
              "  border-bottom-color: var(--jp-border-color0);\n",
              "  border-bottom-style: solid;\n",
              "}\n",
              ".tuneStatus .vDivider {\n",
              "  border-left-width: var(--jp-border-width);\n",
              "  border-left-color: var(--jp-border-color0);\n",
              "  border-left-style: solid;\n",
              "  margin: 0.5em 1em 0.5em 1em;\n",
              "}\n",
              "</style>\n"
            ]
          },
          "metadata": {}
        },
        {
          "output_type": "display_data",
          "data": {
            "text/plain": [
              "<IPython.core.display.HTML object>"
            ],
            "text/html": [
              "<div class=\"trialProgress\">\n",
              "  <h3>Trial Progress</h3>\n",
              "  <table>\n",
              "<thead>\n",
              "<tr><th>Trial name             </th><th>date               </th><th>done  </th><th>episodes_total  </th><th>experiment_id                   </th><th>experiment_tag             </th><th>hostname    </th><th style=\"text-align: right;\">  iterations_since_restore</th><th style=\"text-align: right;\">  mean_accuracy</th><th>node_ip    </th><th style=\"text-align: right;\">  pid</th><th style=\"text-align: right;\">  time_since_restore</th><th style=\"text-align: right;\">  time_this_iter_s</th><th style=\"text-align: right;\">  time_total_s</th><th style=\"text-align: right;\">  timestamp</th><th style=\"text-align: right;\">  timesteps_since_restore</th><th>timesteps_total  </th><th style=\"text-align: right;\">  training_iteration</th><th>trial_id   </th><th style=\"text-align: right;\">  warmup_time</th></tr>\n",
              "</thead>\n",
              "<tbody>\n",
              "<tr><td>train_mnist_838e9_00000</td><td>2023-03-27_18-02-26</td><td>True  </td><td>                </td><td>08d26622b85f4036b1169a74eb5ee773</td><td>0_lr=0.0000,momentum=0.4210</td><td>9a427e40e973</td><td style=\"text-align: right;\">                        10</td><td style=\"text-align: right;\">       0.065625</td><td>172.28.0.12</td><td style=\"text-align: right;\"> 1435</td><td style=\"text-align: right;\">             3.82413</td><td style=\"text-align: right;\">          0.460109</td><td style=\"text-align: right;\">       3.82413</td><td style=\"text-align: right;\"> 1679940146</td><td style=\"text-align: right;\">                        0</td><td>                 </td><td style=\"text-align: right;\">                  10</td><td>838e9_00000</td><td style=\"text-align: right;\">   0.00674391</td></tr>\n",
              "</tbody>\n",
              "</table>\n",
              "</div>\n",
              "<style>\n",
              ".trialProgress {\n",
              "  display: flex;\n",
              "  flex-direction: column;\n",
              "  color: var(--jp-ui-font-color1);\n",
              "}\n",
              ".trialProgress h3 {\n",
              "  font-weight: bold;\n",
              "}\n",
              ".trialProgress td {\n",
              "  white-space: nowrap;\n",
              "}\n",
              "</style>\n"
            ]
          },
          "metadata": {}
        },
        {
          "output_type": "stream",
          "name": "stderr",
          "text": [
            "2023-03-27 18:02:26,226\tINFO tune.py:798 -- Total run time: 7.65 seconds (7.38 seconds for the tuning loop).\n"
          ]
        }
      ]
    },
    {
      "cell_type": "code",
      "source": [
        "dfs = {result.log_dir: result.metrics_dataframe for result in results}\n",
        "[d.mean_accuracy.plot() for d in dfs.values()]"
      ],
      "metadata": {
        "colab": {
          "base_uri": "https://localhost:8080/",
          "height": 282
        },
        "id": "ddLVqmPyPJn9",
        "outputId": "13b1b7c4-16d6-47c1-d7a1-75d67631f372"
      },
      "execution_count": 7,
      "outputs": [
        {
          "output_type": "execute_result",
          "data": {
            "text/plain": [
              "[<Axes: >]"
            ]
          },
          "metadata": {},
          "execution_count": 7
        },
        {
          "output_type": "display_data",
          "data": {
            "text/plain": [
              "<Figure size 432x288 with 1 Axes>"
            ],
            "image/png": "[encoded data removed]"
          },
          "metadata": {
            "needs_background": "light"
          }
        }
      ]
    },
    {
      "cell_type": "markdown",
      "source": [
        "**Early Stopping with Adaptive Successive Halving (ASHAScheduler)**"
      ],
      "metadata": {
        "id": "3MKuKhKePZbV"
      }
    },
    {
      "cell_type": "code",
      "source": [
        "tuner = tune.Tuner(\n",
        "    train_mnist,\n",
        "    tune_config=tune.TuneConfig(\n",
        "        num_samples=20,\n",
        "        scheduler=ASHAScheduler(metric=\"mean_accuracy\", mode=\"max\"),\n",
        "    ),\n",
        "    param_space=search_space,\n",
        ")\n",
        "results = tuner.fit()\n",
        "\n",
        "# Obtain a trial dataframe from all run trials of this `tune.run` call.\n",
        "dfs = {result.log_dir: result.metrics_dataframe for result in results}"
      ],
      "metadata": {
        "colab": {
          "base_uri": "https://localhost:8080/",
          "height": 1000
        },
        "id": "qtLXWLyvPZ4d",
        "outputId": "17704196-613e-4be6-b98d-ae1980972452"
      },
      "execution_count": 8,
      "outputs": [
        {
          "output_type": "display_data",
          "data": {
            "text/plain": [
              "<IPython.core.display.HTML object>"
            ],
            "text/html": [
              "<div class=\"tuneStatus\">\n",
              "  <div style=\"display: flex;flex-direction: row\">\n",
              "    <div style=\"display: flex;flex-direction: column;\">\n",
              "      <h3>Tune Status</h3>\n",
              "      <table>\n",
              "<tbody>\n",
              "<tr><td>Current time:</td><td>2023-03-27 18:04:40</td></tr>\n",
              "<tr><td>Running for: </td><td>00:00:30.79        </td></tr>\n",
              "<tr><td>Memory:      </td><td>1.7/12.7 GiB       </td></tr>\n",
              "</tbody>\n",
              "</table>\n",
              "    </div>\n",
              "    <div class=\"vDivider\"></div>\n",
              "    <div class=\"systemInfo\">\n",
              "      <h3>System Info</h3>\n",
              "      Using AsyncHyperBand: num_stopped=16<br>Bracket: Iter 64.000: None | Iter 16.000: None | Iter 4.000: 0.82265625 | Iter 1.000: 0.1375<br>Resources requested: 0/2 CPUs, 0/0 GPUs, 0.0/7.38 GiB heap, 0.0/3.69 GiB objects\n",
              "    </div>\n",
              "    \n",
              "  </div>\n",
              "  <div class=\"hDivider\"></div>\n",
              "  <div class=\"trialStatus\">\n",
              "    <h3>Trial Status</h3>\n",
              "    <table>\n",
              "<thead>\n",
              "<tr><th>Trial name             </th><th>status    </th><th>loc             </th><th style=\"text-align: right;\">         lr</th><th style=\"text-align: right;\">  momentum</th><th style=\"text-align: right;\">     acc</th><th style=\"text-align: right;\">  iter</th><th style=\"text-align: right;\">  total time (s)</th></tr>\n",
              "</thead>\n",
              "<tbody>\n",
              "<tr><td>train_mnist_c5fb6_00000</td><td>TERMINATED</td><td>172.28.0.12:1971</td><td style=\"text-align: right;\">1.67198e-09</td><td style=\"text-align: right;\">  0.84558 </td><td style=\"text-align: right;\">0.128125</td><td style=\"text-align: right;\">    10</td><td style=\"text-align: right;\">       10.5603  </td></tr>\n",
              "<tr><td>train_mnist_c5fb6_00001</td><td>TERMINATED</td><td>172.28.0.12:2063</td><td style=\"text-align: right;\">0.00173671 </td><td style=\"text-align: right;\">  0.198622</td><td style=\"text-align: right;\">0.05625 </td><td style=\"text-align: right;\">     1</td><td style=\"text-align: right;\">        1.32553 </td></tr>\n",
              "<tr><td>train_mnist_c5fb6_00002</td><td>TERMINATED</td><td>172.28.0.12:2063</td><td style=\"text-align: right;\">0.00305407 </td><td style=\"text-align: right;\">  0.414608</td><td style=\"text-align: right;\">0.08125 </td><td style=\"text-align: right;\">     1</td><td style=\"text-align: right;\">        1.10322 </td></tr>\n",
              "<tr><td>train_mnist_c5fb6_00003</td><td>TERMINATED</td><td>172.28.0.12:2063</td><td style=\"text-align: right;\">0.554251   </td><td style=\"text-align: right;\">  0.563576</td><td style=\"text-align: right;\">0.846875</td><td style=\"text-align: right;\">    10</td><td style=\"text-align: right;\">        6.6808  </td></tr>\n",
              "<tr><td>train_mnist_c5fb6_00004</td><td>TERMINATED</td><td>172.28.0.12:1971</td><td style=\"text-align: right;\">2.56892e-08</td><td style=\"text-align: right;\">  0.232429</td><td style=\"text-align: right;\">0.096875</td><td style=\"text-align: right;\">     1</td><td style=\"text-align: right;\">        0.629739</td></tr>\n",
              "<tr><td>train_mnist_c5fb6_00005</td><td>TERMINATED</td><td>172.28.0.12:1971</td><td style=\"text-align: right;\">1.54514e-06</td><td style=\"text-align: right;\">  0.219239</td><td style=\"text-align: right;\">0.078125</td><td style=\"text-align: right;\">     1</td><td style=\"text-align: right;\">        0.640527</td></tr>\n",
              "<tr><td>train_mnist_c5fb6_00006</td><td>TERMINATED</td><td>172.28.0.12:1971</td><td style=\"text-align: right;\">0.000226263</td><td style=\"text-align: right;\">  0.730166</td><td style=\"text-align: right;\">0.08125 </td><td style=\"text-align: right;\">     1</td><td style=\"text-align: right;\">        0.629448</td></tr>\n",
              "<tr><td>train_mnist_c5fb6_00007</td><td>TERMINATED</td><td>172.28.0.12:1971</td><td style=\"text-align: right;\">0.00271535 </td><td style=\"text-align: right;\">  0.428299</td><td style=\"text-align: right;\">0.09375 </td><td style=\"text-align: right;\">     1</td><td style=\"text-align: right;\">        0.625123</td></tr>\n",
              "<tr><td>train_mnist_c5fb6_00008</td><td>TERMINATED</td><td>172.28.0.12:1971</td><td style=\"text-align: right;\">2.14517e-06</td><td style=\"text-align: right;\">  0.17043 </td><td style=\"text-align: right;\">0.15625 </td><td style=\"text-align: right;\">     4</td><td style=\"text-align: right;\">        2.22688 </td></tr>\n",
              "<tr><td>train_mnist_c5fb6_00009</td><td>TERMINATED</td><td>172.28.0.12:2063</td><td style=\"text-align: right;\">1.06781e-05</td><td style=\"text-align: right;\">  0.290371</td><td style=\"text-align: right;\">0.065625</td><td style=\"text-align: right;\">     1</td><td style=\"text-align: right;\">        0.606567</td></tr>\n",
              "<tr><td>train_mnist_c5fb6_00010</td><td>TERMINATED</td><td>172.28.0.12:2063</td><td style=\"text-align: right;\">0.108599   </td><td style=\"text-align: right;\">  0.515738</td><td style=\"text-align: right;\">0.915625</td><td style=\"text-align: right;\">    10</td><td style=\"text-align: right;\">        5.31951 </td></tr>\n",
              "<tr><td>train_mnist_c5fb6_00011</td><td>TERMINATED</td><td>172.28.0.12:1971</td><td style=\"text-align: right;\">0.0110809  </td><td style=\"text-align: right;\">  0.252467</td><td style=\"text-align: right;\">0.0625  </td><td style=\"text-align: right;\">     1</td><td style=\"text-align: right;\">        0.645582</td></tr>\n",
              "<tr><td>train_mnist_c5fb6_00012</td><td>TERMINATED</td><td>172.28.0.12:1971</td><td style=\"text-align: right;\">0.0712274  </td><td style=\"text-align: right;\">  0.270922</td><td style=\"text-align: right;\">0.73125 </td><td style=\"text-align: right;\">     4</td><td style=\"text-align: right;\">        2.22624 </td></tr>\n",
              "<tr><td>train_mnist_c5fb6_00013</td><td>TERMINATED</td><td>172.28.0.12:1971</td><td style=\"text-align: right;\">0.000859567</td><td style=\"text-align: right;\">  0.654936</td><td style=\"text-align: right;\">0.134375</td><td style=\"text-align: right;\">     1</td><td style=\"text-align: right;\">        0.623443</td></tr>\n",
              "<tr><td>train_mnist_c5fb6_00014</td><td>TERMINATED</td><td>172.28.0.12:1971</td><td style=\"text-align: right;\">0.0949666  </td><td style=\"text-align: right;\">  0.2242  </td><td style=\"text-align: right;\">0.915625</td><td style=\"text-align: right;\">    10</td><td style=\"text-align: right;\">        7.64487 </td></tr>\n",
              "<tr><td>train_mnist_c5fb6_00015</td><td>TERMINATED</td><td>172.28.0.12:2063</td><td style=\"text-align: right;\">8.50817e-06</td><td style=\"text-align: right;\">  0.675345</td><td style=\"text-align: right;\">0.09375 </td><td style=\"text-align: right;\">     1</td><td style=\"text-align: right;\">        0.942759</td></tr>\n",
              "<tr><td>train_mnist_c5fb6_00016</td><td>TERMINATED</td><td>172.28.0.12:2063</td><td style=\"text-align: right;\">8.0118e-09 </td><td style=\"text-align: right;\">  0.435971</td><td style=\"text-align: right;\">0.08125 </td><td style=\"text-align: right;\">     1</td><td style=\"text-align: right;\">        1.15843 </td></tr>\n",
              "<tr><td>train_mnist_c5fb6_00017</td><td>TERMINATED</td><td>172.28.0.12:2063</td><td style=\"text-align: right;\">2.30381e-06</td><td style=\"text-align: right;\">  0.286903</td><td style=\"text-align: right;\">0.1125  </td><td style=\"text-align: right;\">     1</td><td style=\"text-align: right;\">        0.959352</td></tr>\n",
              "<tr><td>train_mnist_c5fb6_00018</td><td>TERMINATED</td><td>172.28.0.12:2063</td><td style=\"text-align: right;\">2.61852e-06</td><td style=\"text-align: right;\">  0.420148</td><td style=\"text-align: right;\">0.128125</td><td style=\"text-align: right;\">     1</td><td style=\"text-align: right;\">        0.973987</td></tr>\n",
              "<tr><td>train_mnist_c5fb6_00019</td><td>TERMINATED</td><td>172.28.0.12:2063</td><td style=\"text-align: right;\">0.532516   </td><td style=\"text-align: right;\">  0.583497</td><td style=\"text-align: right;\">0.1125  </td><td style=\"text-align: right;\">     1</td><td style=\"text-align: right;\">        1.15951 </td></tr>\n",
              "</tbody>\n",
              "</table>\n",
              "  </div>\n",
              "</div>\n",
              "<style>\n",
              ".tuneStatus {\n",
              "  color: var(--jp-ui-font-color1);\n",
              "}\n",
              ".tuneStatus .systemInfo {\n",
              "  display: flex;\n",
              "  flex-direction: column;\n",
              "}\n",
              ".tuneStatus td {\n",
              "  white-space: nowrap;\n",
              "}\n",
              ".tuneStatus .trialStatus {\n",
              "  display: flex;\n",
              "  flex-direction: column;\n",
              "}\n",
              ".tuneStatus h3 {\n",
              "  font-weight: bold;\n",
              "}\n",
              ".tuneStatus .hDivider {\n",
              "  border-bottom-width: var(--jp-border-width);\n",
              "  border-bottom-color: var(--jp-border-color0);\n",
              "  border-bottom-style: solid;\n",
              "}\n",
              ".tuneStatus .vDivider {\n",
              "  border-left-width: var(--jp-border-width);\n",
              "  border-left-color: var(--jp-border-color0);\n",
              "  border-left-style: solid;\n",
              "  margin: 0.5em 1em 0.5em 1em;\n",
              "}\n",
              "</style>\n"
            ]
          },
          "metadata": {}
        },
        {
          "output_type": "display_data",
          "data": {
            "text/plain": [
              "<IPython.core.display.HTML object>"
            ],
            "text/html": [
              "<div class=\"trialProgress\">\n",
              "  <h3>Trial Progress</h3>\n",
              "  <table>\n",
              "<thead>\n",
              "<tr><th>Trial name             </th><th>date               </th><th>done  </th><th>episodes_total  </th><th>experiment_id                   </th><th>experiment_tag              </th><th>hostname    </th><th style=\"text-align: right;\">  iterations_since_restore</th><th style=\"text-align: right;\">  mean_accuracy</th><th>node_ip    </th><th style=\"text-align: right;\">  pid</th><th style=\"text-align: right;\">  time_since_restore</th><th style=\"text-align: right;\">  time_this_iter_s</th><th style=\"text-align: right;\">  time_total_s</th><th style=\"text-align: right;\">  timestamp</th><th style=\"text-align: right;\">  timesteps_since_restore</th><th>timesteps_total  </th><th style=\"text-align: right;\">  training_iteration</th><th>trial_id   </th><th style=\"text-align: right;\">  warmup_time</th></tr>\n",
              "</thead>\n",
              "<tbody>\n",
              "<tr><td>train_mnist_c5fb6_00000</td><td>2023-03-27_18-04-24</td><td>True  </td><td>                </td><td>5b60622f794348d5be86fdf845d5ad0d</td><td>0_lr=0.0000,momentum=0.8456 </td><td>9a427e40e973</td><td style=\"text-align: right;\">                        10</td><td style=\"text-align: right;\">       0.128125</td><td>172.28.0.12</td><td style=\"text-align: right;\"> 1971</td><td style=\"text-align: right;\">           10.5603  </td><td style=\"text-align: right;\">          0.489154</td><td style=\"text-align: right;\">     10.5603  </td><td style=\"text-align: right;\"> 1679940264</td><td style=\"text-align: right;\">                        0</td><td>                 </td><td style=\"text-align: right;\">                  10</td><td>c5fb6_00000</td><td style=\"text-align: right;\">   0.00422573</td></tr>\n",
              "<tr><td>train_mnist_c5fb6_00001</td><td>2023-03-27_18-04-19</td><td>True  </td><td>                </td><td>00836385233f4159b30eb5e3064a5443</td><td>                            </td><td>9a427e40e973</td><td style=\"text-align: right;\">                         1</td><td style=\"text-align: right;\">       0.05625 </td><td>172.28.0.12</td><td style=\"text-align: right;\"> 2063</td><td style=\"text-align: right;\">            1.32553 </td><td style=\"text-align: right;\">          1.32553 </td><td style=\"text-align: right;\">      1.32553 </td><td style=\"text-align: right;\"> 1679940259</td><td style=\"text-align: right;\">                        0</td><td>                 </td><td style=\"text-align: right;\">                   1</td><td>c5fb6_00001</td><td style=\"text-align: right;\">   0.00777793</td></tr>\n",
              "<tr><td>train_mnist_c5fb6_00002</td><td>2023-03-27_18-04-20</td><td>True  </td><td>                </td><td>00836385233f4159b30eb5e3064a5443</td><td>                            </td><td>9a427e40e973</td><td style=\"text-align: right;\">                         1</td><td style=\"text-align: right;\">       0.08125 </td><td>172.28.0.12</td><td style=\"text-align: right;\"> 2063</td><td style=\"text-align: right;\">            1.10322 </td><td style=\"text-align: right;\">          1.10322 </td><td style=\"text-align: right;\">      1.10322 </td><td style=\"text-align: right;\"> 1679940260</td><td style=\"text-align: right;\">                        0</td><td>                 </td><td style=\"text-align: right;\">                   1</td><td>c5fb6_00002</td><td style=\"text-align: right;\">   0.00777793</td></tr>\n",
              "<tr><td>train_mnist_c5fb6_00003</td><td>2023-03-27_18-04-27</td><td>True  </td><td>                </td><td>00836385233f4159b30eb5e3064a5443</td><td>3_lr=0.5543,momentum=0.5636 </td><td>9a427e40e973</td><td style=\"text-align: right;\">                        10</td><td style=\"text-align: right;\">       0.846875</td><td>172.28.0.12</td><td style=\"text-align: right;\"> 2063</td><td style=\"text-align: right;\">            6.6808  </td><td style=\"text-align: right;\">          0.502638</td><td style=\"text-align: right;\">      6.6808  </td><td style=\"text-align: right;\"> 1679940267</td><td style=\"text-align: right;\">                        0</td><td>                 </td><td style=\"text-align: right;\">                  10</td><td>c5fb6_00003</td><td style=\"text-align: right;\">   0.00777793</td></tr>\n",
              "<tr><td>train_mnist_c5fb6_00004</td><td>2023-03-27_18-04-25</td><td>True  </td><td>                </td><td>5b60622f794348d5be86fdf845d5ad0d</td><td>                            </td><td>9a427e40e973</td><td style=\"text-align: right;\">                         1</td><td style=\"text-align: right;\">       0.096875</td><td>172.28.0.12</td><td style=\"text-align: right;\"> 1971</td><td style=\"text-align: right;\">            0.629739</td><td style=\"text-align: right;\">          0.629739</td><td style=\"text-align: right;\">      0.629739</td><td style=\"text-align: right;\"> 1679940265</td><td style=\"text-align: right;\">                        0</td><td>                 </td><td style=\"text-align: right;\">                   1</td><td>c5fb6_00004</td><td style=\"text-align: right;\">   0.00422573</td></tr>\n",
              "<tr><td>train_mnist_c5fb6_00005</td><td>2023-03-27_18-04-25</td><td>True  </td><td>                </td><td>5b60622f794348d5be86fdf845d5ad0d</td><td>                            </td><td>9a427e40e973</td><td style=\"text-align: right;\">                         1</td><td style=\"text-align: right;\">       0.078125</td><td>172.28.0.12</td><td style=\"text-align: right;\"> 1971</td><td style=\"text-align: right;\">            0.640527</td><td style=\"text-align: right;\">          0.640527</td><td style=\"text-align: right;\">      0.640527</td><td style=\"text-align: right;\"> 1679940265</td><td style=\"text-align: right;\">                        0</td><td>                 </td><td style=\"text-align: right;\">                   1</td><td>c5fb6_00005</td><td style=\"text-align: right;\">   0.00422573</td></tr>\n",
              "<tr><td>train_mnist_c5fb6_00006</td><td>2023-03-27_18-04-26</td><td>True  </td><td>                </td><td>5b60622f794348d5be86fdf845d5ad0d</td><td>                            </td><td>9a427e40e973</td><td style=\"text-align: right;\">                         1</td><td style=\"text-align: right;\">       0.08125 </td><td>172.28.0.12</td><td style=\"text-align: right;\"> 1971</td><td style=\"text-align: right;\">            0.629448</td><td style=\"text-align: right;\">          0.629448</td><td style=\"text-align: right;\">      0.629448</td><td style=\"text-align: right;\"> 1679940266</td><td style=\"text-align: right;\">                        0</td><td>                 </td><td style=\"text-align: right;\">                   1</td><td>c5fb6_00006</td><td style=\"text-align: right;\">   0.00422573</td></tr>\n",
              "<tr><td>train_mnist_c5fb6_00007</td><td>2023-03-27_18-04-27</td><td>True  </td><td>                </td><td>5b60622f794348d5be86fdf845d5ad0d</td><td>                            </td><td>9a427e40e973</td><td style=\"text-align: right;\">                         1</td><td style=\"text-align: right;\">       0.09375 </td><td>172.28.0.12</td><td style=\"text-align: right;\"> 1971</td><td style=\"text-align: right;\">            0.625123</td><td style=\"text-align: right;\">          0.625123</td><td style=\"text-align: right;\">      0.625123</td><td style=\"text-align: right;\"> 1679940267</td><td style=\"text-align: right;\">                        0</td><td>                 </td><td style=\"text-align: right;\">                   1</td><td>c5fb6_00007</td><td style=\"text-align: right;\">   0.00422573</td></tr>\n",
              "<tr><td>train_mnist_c5fb6_00008</td><td>2023-03-27_18-04-29</td><td>True  </td><td>                </td><td>5b60622f794348d5be86fdf845d5ad0d</td><td>                            </td><td>9a427e40e973</td><td style=\"text-align: right;\">                         4</td><td style=\"text-align: right;\">       0.15625 </td><td>172.28.0.12</td><td style=\"text-align: right;\"> 1971</td><td style=\"text-align: right;\">            2.22688 </td><td style=\"text-align: right;\">          0.545495</td><td style=\"text-align: right;\">      2.22688 </td><td style=\"text-align: right;\"> 1679940269</td><td style=\"text-align: right;\">                        0</td><td>                 </td><td style=\"text-align: right;\">                   4</td><td>c5fb6_00008</td><td style=\"text-align: right;\">   0.00422573</td></tr>\n",
              "<tr><td>train_mnist_c5fb6_00009</td><td>2023-03-27_18-04-28</td><td>True  </td><td>                </td><td>00836385233f4159b30eb5e3064a5443</td><td>                            </td><td>9a427e40e973</td><td style=\"text-align: right;\">                         1</td><td style=\"text-align: right;\">       0.065625</td><td>172.28.0.12</td><td style=\"text-align: right;\"> 2063</td><td style=\"text-align: right;\">            0.606567</td><td style=\"text-align: right;\">          0.606567</td><td style=\"text-align: right;\">      0.606567</td><td style=\"text-align: right;\"> 1679940268</td><td style=\"text-align: right;\">                        0</td><td>                 </td><td style=\"text-align: right;\">                   1</td><td>c5fb6_00009</td><td style=\"text-align: right;\">   0.00777793</td></tr>\n",
              "<tr><td>train_mnist_c5fb6_00010</td><td>2023-03-27_18-04-33</td><td>True  </td><td>                </td><td>00836385233f4159b30eb5e3064a5443</td><td>10_lr=0.1086,momentum=0.5157</td><td>9a427e40e973</td><td style=\"text-align: right;\">                        10</td><td style=\"text-align: right;\">       0.915625</td><td>172.28.0.12</td><td style=\"text-align: right;\"> 2063</td><td style=\"text-align: right;\">            5.31951 </td><td style=\"text-align: right;\">          0.502055</td><td style=\"text-align: right;\">      5.31951 </td><td style=\"text-align: right;\"> 1679940273</td><td style=\"text-align: right;\">                        0</td><td>                 </td><td style=\"text-align: right;\">                  10</td><td>c5fb6_00010</td><td style=\"text-align: right;\">   0.00777793</td></tr>\n",
              "<tr><td>train_mnist_c5fb6_00011</td><td>2023-03-27_18-04-30</td><td>True  </td><td>                </td><td>5b60622f794348d5be86fdf845d5ad0d</td><td>                            </td><td>9a427e40e973</td><td style=\"text-align: right;\">                         1</td><td style=\"text-align: right;\">       0.0625  </td><td>172.28.0.12</td><td style=\"text-align: right;\"> 1971</td><td style=\"text-align: right;\">            0.645582</td><td style=\"text-align: right;\">          0.645582</td><td style=\"text-align: right;\">      0.645582</td><td style=\"text-align: right;\"> 1679940270</td><td style=\"text-align: right;\">                        0</td><td>                 </td><td style=\"text-align: right;\">                   1</td><td>c5fb6_00011</td><td style=\"text-align: right;\">   0.00422573</td></tr>\n",
              "<tr><td>train_mnist_c5fb6_00012</td><td>2023-03-27_18-04-32</td><td>True  </td><td>                </td><td>5b60622f794348d5be86fdf845d5ad0d</td><td>                            </td><td>9a427e40e973</td><td style=\"text-align: right;\">                         4</td><td style=\"text-align: right;\">       0.73125 </td><td>172.28.0.12</td><td style=\"text-align: right;\"> 1971</td><td style=\"text-align: right;\">            2.22624 </td><td style=\"text-align: right;\">          0.508416</td><td style=\"text-align: right;\">      2.22624 </td><td style=\"text-align: right;\"> 1679940272</td><td style=\"text-align: right;\">                        0</td><td>                 </td><td style=\"text-align: right;\">                   4</td><td>c5fb6_00012</td><td style=\"text-align: right;\">   0.00422573</td></tr>\n",
              "<tr><td>train_mnist_c5fb6_00013</td><td>2023-03-27_18-04-33</td><td>True  </td><td>                </td><td>5b60622f794348d5be86fdf845d5ad0d</td><td>                            </td><td>9a427e40e973</td><td style=\"text-align: right;\">                         1</td><td style=\"text-align: right;\">       0.134375</td><td>172.28.0.12</td><td style=\"text-align: right;\"> 1971</td><td style=\"text-align: right;\">            0.623443</td><td style=\"text-align: right;\">          0.623443</td><td style=\"text-align: right;\">      0.623443</td><td style=\"text-align: right;\"> 1679940273</td><td style=\"text-align: right;\">                        0</td><td>                 </td><td style=\"text-align: right;\">                   1</td><td>c5fb6_00013</td><td style=\"text-align: right;\">   0.00422573</td></tr>\n",
              "<tr><td>train_mnist_c5fb6_00014</td><td>2023-03-27_18-04-40</td><td>True  </td><td>                </td><td>5b60622f794348d5be86fdf845d5ad0d</td><td>14_lr=0.0950,momentum=0.2242</td><td>9a427e40e973</td><td style=\"text-align: right;\">                        10</td><td style=\"text-align: right;\">       0.915625</td><td>172.28.0.12</td><td style=\"text-align: right;\"> 1971</td><td style=\"text-align: right;\">            7.64487 </td><td style=\"text-align: right;\">          0.302124</td><td style=\"text-align: right;\">      7.64487 </td><td style=\"text-align: right;\"> 1679940280</td><td style=\"text-align: right;\">                        0</td><td>                 </td><td style=\"text-align: right;\">                  10</td><td>c5fb6_00014</td><td style=\"text-align: right;\">   0.00422573</td></tr>\n",
              "<tr><td>train_mnist_c5fb6_00015</td><td>2023-03-27_18-04-34</td><td>True  </td><td>                </td><td>00836385233f4159b30eb5e3064a5443</td><td>                            </td><td>9a427e40e973</td><td style=\"text-align: right;\">                         1</td><td style=\"text-align: right;\">       0.09375 </td><td>172.28.0.12</td><td style=\"text-align: right;\"> 2063</td><td style=\"text-align: right;\">            0.942759</td><td style=\"text-align: right;\">          0.942759</td><td style=\"text-align: right;\">      0.942759</td><td style=\"text-align: right;\"> 1679940274</td><td style=\"text-align: right;\">                        0</td><td>                 </td><td style=\"text-align: right;\">                   1</td><td>c5fb6_00015</td><td style=\"text-align: right;\">   0.00777793</td></tr>\n",
              "<tr><td>train_mnist_c5fb6_00016</td><td>2023-03-27_18-04-35</td><td>True  </td><td>                </td><td>00836385233f4159b30eb5e3064a5443</td><td>                            </td><td>9a427e40e973</td><td style=\"text-align: right;\">                         1</td><td style=\"text-align: right;\">       0.08125 </td><td>172.28.0.12</td><td style=\"text-align: right;\"> 2063</td><td style=\"text-align: right;\">            1.15843 </td><td style=\"text-align: right;\">          1.15843 </td><td style=\"text-align: right;\">      1.15843 </td><td style=\"text-align: right;\"> 1679940275</td><td style=\"text-align: right;\">                        0</td><td>                 </td><td style=\"text-align: right;\">                   1</td><td>c5fb6_00016</td><td style=\"text-align: right;\">   0.00777793</td></tr>\n",
              "<tr><td>train_mnist_c5fb6_00017</td><td>2023-03-27_18-04-36</td><td>True  </td><td>                </td><td>00836385233f4159b30eb5e3064a5443</td><td>                            </td><td>9a427e40e973</td><td style=\"text-align: right;\">                         1</td><td style=\"text-align: right;\">       0.1125  </td><td>172.28.0.12</td><td style=\"text-align: right;\"> 2063</td><td style=\"text-align: right;\">            0.959352</td><td style=\"text-align: right;\">          0.959352</td><td style=\"text-align: right;\">      0.959352</td><td style=\"text-align: right;\"> 1679940276</td><td style=\"text-align: right;\">                        0</td><td>                 </td><td style=\"text-align: right;\">                   1</td><td>c5fb6_00017</td><td style=\"text-align: right;\">   0.00777793</td></tr>\n",
              "<tr><td>train_mnist_c5fb6_00018</td><td>2023-03-27_18-04-37</td><td>True  </td><td>                </td><td>00836385233f4159b30eb5e3064a5443</td><td>                            </td><td>9a427e40e973</td><td style=\"text-align: right;\">                         1</td><td style=\"text-align: right;\">       0.128125</td><td>172.28.0.12</td><td style=\"text-align: right;\"> 2063</td><td style=\"text-align: right;\">            0.973987</td><td style=\"text-align: right;\">          0.973987</td><td style=\"text-align: right;\">      0.973987</td><td style=\"text-align: right;\"> 1679940277</td><td style=\"text-align: right;\">                        0</td><td>                 </td><td style=\"text-align: right;\">                   1</td><td>c5fb6_00018</td><td style=\"text-align: right;\">   0.00777793</td></tr>\n",
              "<tr><td>train_mnist_c5fb6_00019</td><td>2023-03-27_18-04-39</td><td>True  </td><td>                </td><td>00836385233f4159b30eb5e3064a5443</td><td>                            </td><td>9a427e40e973</td><td style=\"text-align: right;\">                         1</td><td style=\"text-align: right;\">       0.1125  </td><td>172.28.0.12</td><td style=\"text-align: right;\"> 2063</td><td style=\"text-align: right;\">            1.15951 </td><td style=\"text-align: right;\">          1.15951 </td><td style=\"text-align: right;\">      1.15951 </td><td style=\"text-align: right;\"> 1679940279</td><td style=\"text-align: right;\">                        0</td><td>                 </td><td style=\"text-align: right;\">                   1</td><td>c5fb6_00019</td><td style=\"text-align: right;\">   0.00777793</td></tr>\n",
              "</tbody>\n",
              "</table>\n",
              "</div>\n",
              "<style>\n",
              ".trialProgress {\n",
              "  display: flex;\n",
              "  flex-direction: column;\n",
              "  color: var(--jp-ui-font-color1);\n",
              "}\n",
              ".trialProgress h3 {\n",
              "  font-weight: bold;\n",
              "}\n",
              ".trialProgress td {\n",
              "  white-space: nowrap;\n",
              "}\n",
              "</style>\n"
            ]
          },
          "metadata": {}
        },
        {
          "output_type": "stream",
          "name": "stderr",
          "text": [
            "2023-03-27 18:04:40,869\tINFO tune.py:798 -- Total run time: 30.85 seconds (30.76 seconds for the tuning loop).\n"
          ]
        }
      ]
    },
    {
      "cell_type": "code",
      "source": [
        "# Plot by epoch\n",
        "ax = None  # This plots everything on the same plot\n",
        "for d in dfs.values():\n",
        "    ax = d.mean_accuracy.plot(ax=ax, legend=False)"
      ],
      "metadata": {
        "colab": {
          "base_uri": "https://localhost:8080/",
          "height": 265
        },
        "id": "lA2pxFJGPeg-",
        "outputId": "76e5dc6e-56fb-4ae7-c795-82c06bbd8a57"
      },
      "execution_count": 9,
      "outputs": [
        {
          "output_type": "display_data",
          "data": {
            "text/plain": [
              "<Figure size 432x288 with 1 Axes>"
            ],
            "image/png": "[encoded data removed]"
          },
          "metadata": {
            "needs_background": "light"
          }
        }
      ]
    },
    {
      "cell_type": "markdown",
      "source": [
        "**Using Search Algorithms in Tune**"
      ],
      "metadata": {
        "id": "daFot9kRPwr6"
      }
    },
    {
      "cell_type": "code",
      "source": [
        "from hyperopt import hp\n",
        "from ray.tune.search.hyperopt import HyperOptSearch\n",
        "\n",
        "space = {\n",
        "    \"lr\": hp.loguniform(\"lr\", -10, -1),\n",
        "    \"momentum\": hp.uniform(\"momentum\", 0.1, 0.9),\n",
        "}\n",
        "\n",
        "hyperopt_search = HyperOptSearch(space, metric=\"mean_accuracy\", mode=\"max\")\n",
        "\n",
        "tuner = tune.Tuner(\n",
        "    train_mnist,\n",
        "    tune_config=tune.TuneConfig(\n",
        "        num_samples=10,\n",
        "        search_alg=hyperopt_search,\n",
        "    ),\n",
        ")\n",
        "results = tuner.fit()\n",
        "\n",
        "# To enable GPUs, use this instead:\n",
        "# analysis = tune.run(\n",
        "#     train_mnist, config=search_space, resources_per_trial={'gpu': 1})\n"
      ],
      "metadata": {
        "colab": {
          "base_uri": "https://localhost:8080/",
          "height": 707
        },
        "id": "wp5D7TL_Pq3G",
        "outputId": "37976c4f-2bea-4e3f-e070-5167e492bbfe"
      },
      "execution_count": 10,
      "outputs": [
        {
          "output_type": "display_data",
          "data": {
            "text/plain": [
              "<IPython.core.display.HTML object>"
            ],
            "text/html": [
              "<div class=\"tuneStatus\">\n",
              "  <div style=\"display: flex;flex-direction: row\">\n",
              "    <div style=\"display: flex;flex-direction: column;\">\n",
              "      <h3>Tune Status</h3>\n",
              "      <table>\n",
              "<tbody>\n",
              "<tr><td>Current time:</td><td>2023-03-27 18:06:20</td></tr>\n",
              "<tr><td>Running for: </td><td>00:00:44.59        </td></tr>\n",
              "<tr><td>Memory:      </td><td>1.9/12.7 GiB       </td></tr>\n",
              "</tbody>\n",
              "</table>\n",
              "    </div>\n",
              "    <div class=\"vDivider\"></div>\n",
              "    <div class=\"systemInfo\">\n",
              "      <h3>System Info</h3>\n",
              "      Using FIFO scheduling algorithm.<br>Resources requested: 0/2 CPUs, 0/0 GPUs, 0.0/7.38 GiB heap, 0.0/3.69 GiB objects\n",
              "    </div>\n",
              "    \n",
              "  </div>\n",
              "  <div class=\"hDivider\"></div>\n",
              "  <div class=\"trialStatus\">\n",
              "    <h3>Trial Status</h3>\n",
              "    <table>\n",
              "<thead>\n",
              "<tr><th>Trial name          </th><th>status    </th><th>loc             </th><th style=\"text-align: right;\">         lr</th><th style=\"text-align: right;\">  momentum</th><th style=\"text-align: right;\">     acc</th><th style=\"text-align: right;\">  iter</th><th style=\"text-align: right;\">  total time (s)</th></tr>\n",
              "</thead>\n",
              "<tbody>\n",
              "<tr><td>train_mnist_e58ef445</td><td>TERMINATED</td><td>172.28.0.12:2634</td><td style=\"text-align: right;\">0.00275887 </td><td style=\"text-align: right;\">  0.423869</td><td style=\"text-align: right;\">0.64375 </td><td style=\"text-align: right;\">    10</td><td style=\"text-align: right;\">         9.71593</td></tr>\n",
              "<tr><td>train_mnist_803d8b44</td><td>TERMINATED</td><td>172.28.0.12:2685</td><td style=\"text-align: right;\">0.000462824</td><td style=\"text-align: right;\">  0.598314</td><td style=\"text-align: right;\">0.171875</td><td style=\"text-align: right;\">    10</td><td style=\"text-align: right;\">         8.41807</td></tr>\n",
              "<tr><td>train_mnist_460915a7</td><td>TERMINATED</td><td>172.28.0.12:2634</td><td style=\"text-align: right;\">0.000550763</td><td style=\"text-align: right;\">  0.357932</td><td style=\"text-align: right;\">0.115625</td><td style=\"text-align: right;\">    10</td><td style=\"text-align: right;\">         6.088  </td></tr>\n",
              "<tr><td>train_mnist_837480c1</td><td>TERMINATED</td><td>172.28.0.12:2685</td><td style=\"text-align: right;\">0.000339767</td><td style=\"text-align: right;\">  0.464938</td><td style=\"text-align: right;\">0.059375</td><td style=\"text-align: right;\">    10</td><td style=\"text-align: right;\">         5.40555</td></tr>\n",
              "<tr><td>train_mnist_db0d6550</td><td>TERMINATED</td><td>172.28.0.12:2634</td><td style=\"text-align: right;\">0.0136715  </td><td style=\"text-align: right;\">  0.160498</td><td style=\"text-align: right;\">0.825   </td><td style=\"text-align: right;\">    10</td><td style=\"text-align: right;\">         5.35438</td></tr>\n",
              "<tr><td>train_mnist_77566628</td><td>TERMINATED</td><td>172.28.0.12:2685</td><td style=\"text-align: right;\">7.30976e-05</td><td style=\"text-align: right;\">  0.324632</td><td style=\"text-align: right;\">0.121875</td><td style=\"text-align: right;\">    10</td><td style=\"text-align: right;\">         7.38958</td></tr>\n",
              "<tr><td>train_mnist_24155cdd</td><td>TERMINATED</td><td>172.28.0.12:2634</td><td style=\"text-align: right;\">0.00712179 </td><td style=\"text-align: right;\">  0.372582</td><td style=\"text-align: right;\">0.75625 </td><td style=\"text-align: right;\">    10</td><td style=\"text-align: right;\">         8.42472</td></tr>\n",
              "<tr><td>train_mnist_167907e7</td><td>TERMINATED</td><td>172.28.0.12:2685</td><td style=\"text-align: right;\">0.032655   </td><td style=\"text-align: right;\">  0.128701</td><td style=\"text-align: right;\">0.8625  </td><td style=\"text-align: right;\">    10</td><td style=\"text-align: right;\">         6.85421</td></tr>\n",
              "<tr><td>train_mnist_1a46cfbf</td><td>TERMINATED</td><td>172.28.0.12:2634</td><td style=\"text-align: right;\">7.76243e-05</td><td style=\"text-align: right;\">  0.715552</td><td style=\"text-align: right;\">0.059375</td><td style=\"text-align: right;\">    10</td><td style=\"text-align: right;\">         7.75517</td></tr>\n",
              "<tr><td>train_mnist_ae9aa6a7</td><td>TERMINATED</td><td>172.28.0.12:2685</td><td style=\"text-align: right;\">0.000923842</td><td style=\"text-align: right;\">  0.887863</td><td style=\"text-align: right;\">0.675   </td><td style=\"text-align: right;\">    10</td><td style=\"text-align: right;\">         7.02468</td></tr>\n",
              "</tbody>\n",
              "</table>\n",
              "  </div>\n",
              "</div>\n",
              "<style>\n",
              ".tuneStatus {\n",
              "  color: var(--jp-ui-font-color1);\n",
              "}\n",
              ".tuneStatus .systemInfo {\n",
              "  display: flex;\n",
              "  flex-direction: column;\n",
              "}\n",
              ".tuneStatus td {\n",
              "  white-space: nowrap;\n",
              "}\n",
              ".tuneStatus .trialStatus {\n",
              "  display: flex;\n",
              "  flex-direction: column;\n",
              "}\n",
              ".tuneStatus h3 {\n",
              "  font-weight: bold;\n",
              "}\n",
              ".tuneStatus .hDivider {\n",
              "  border-bottom-width: var(--jp-border-width);\n",
              "  border-bottom-color: var(--jp-border-color0);\n",
              "  border-bottom-style: solid;\n",
              "}\n",
              ".tuneStatus .vDivider {\n",
              "  border-left-width: var(--jp-border-width);\n",
              "  border-left-color: var(--jp-border-color0);\n",
              "  border-left-style: solid;\n",
              "  margin: 0.5em 1em 0.5em 1em;\n",
              "}\n",
              "</style>\n"
            ]
          },
          "metadata": {}
        },
        {
          "output_type": "display_data",
          "data": {
            "text/plain": [
              "<IPython.core.display.HTML object>"
            ],
            "text/html": [
              "<div class=\"trialProgress\">\n",
              "  <h3>Trial Progress</h3>\n",
              "  <table>\n",
              "<thead>\n",
              "<tr><th>Trial name          </th><th>date               </th><th>done  </th><th>episodes_total  </th><th>experiment_id                   </th><th>experiment_tag              </th><th>hostname    </th><th style=\"text-align: right;\">  iterations_since_restore</th><th style=\"text-align: right;\">  mean_accuracy</th><th>node_ip    </th><th style=\"text-align: right;\">  pid</th><th style=\"text-align: right;\">  time_since_restore</th><th style=\"text-align: right;\">  time_this_iter_s</th><th style=\"text-align: right;\">  time_total_s</th><th style=\"text-align: right;\">  timestamp</th><th style=\"text-align: right;\">  timesteps_since_restore</th><th>timesteps_total  </th><th style=\"text-align: right;\">  training_iteration</th><th>trial_id  </th><th style=\"text-align: right;\">  warmup_time</th></tr>\n",
              "</thead>\n",
              "<tbody>\n",
              "<tr><td>train_mnist_167907e7</td><td>2023-03-27_18-06-13</td><td>True  </td><td>                </td><td>3cabc4dd929f40fab1b61d17724c55c8</td><td>8_lr=0.0327,momentum=0.1287 </td><td>9a427e40e973</td><td style=\"text-align: right;\">                        10</td><td style=\"text-align: right;\">       0.8625  </td><td>172.28.0.12</td><td style=\"text-align: right;\"> 2685</td><td style=\"text-align: right;\">             6.85421</td><td style=\"text-align: right;\">          0.887567</td><td style=\"text-align: right;\">       6.85421</td><td style=\"text-align: right;\"> 1679940373</td><td style=\"text-align: right;\">                        0</td><td>                 </td><td style=\"text-align: right;\">                  10</td><td>167907e7  </td><td style=\"text-align: right;\">   0.00567818</td></tr>\n",
              "<tr><td>train_mnist_1a46cfbf</td><td>2023-03-27_18-06-18</td><td>True  </td><td>                </td><td>6ab68467b9fb4e0d8657f8edecfd3ff9</td><td>9_lr=0.0001,momentum=0.7156 </td><td>9a427e40e973</td><td style=\"text-align: right;\">                        10</td><td style=\"text-align: right;\">       0.059375</td><td>172.28.0.12</td><td style=\"text-align: right;\"> 2634</td><td style=\"text-align: right;\">             7.75517</td><td style=\"text-align: right;\">          0.520234</td><td style=\"text-align: right;\">       7.75517</td><td style=\"text-align: right;\"> 1679940378</td><td style=\"text-align: right;\">                        0</td><td>                 </td><td style=\"text-align: right;\">                  10</td><td>1a46cfbf  </td><td style=\"text-align: right;\">   0.00426841</td></tr>\n",
              "<tr><td>train_mnist_24155cdd</td><td>2023-03-27_18-06-10</td><td>True  </td><td>                </td><td>6ab68467b9fb4e0d8657f8edecfd3ff9</td><td>7_lr=0.0071,momentum=0.3726 </td><td>9a427e40e973</td><td style=\"text-align: right;\">                        10</td><td style=\"text-align: right;\">       0.75625 </td><td>172.28.0.12</td><td style=\"text-align: right;\"> 2634</td><td style=\"text-align: right;\">             8.42472</td><td style=\"text-align: right;\">          0.520979</td><td style=\"text-align: right;\">       8.42472</td><td style=\"text-align: right;\"> 1679940370</td><td style=\"text-align: right;\">                        0</td><td>                 </td><td style=\"text-align: right;\">                  10</td><td>24155cdd  </td><td style=\"text-align: right;\">   0.00426841</td></tr>\n",
              "<tr><td>train_mnist_460915a7</td><td>2023-03-27_18-05-57</td><td>True  </td><td>                </td><td>6ab68467b9fb4e0d8657f8edecfd3ff9</td><td>3_lr=0.0006,momentum=0.3579 </td><td>9a427e40e973</td><td style=\"text-align: right;\">                        10</td><td style=\"text-align: right;\">       0.115625</td><td>172.28.0.12</td><td style=\"text-align: right;\"> 2634</td><td style=\"text-align: right;\">             6.088  </td><td style=\"text-align: right;\">          0.506615</td><td style=\"text-align: right;\">       6.088  </td><td style=\"text-align: right;\"> 1679940357</td><td style=\"text-align: right;\">                        0</td><td>                 </td><td style=\"text-align: right;\">                  10</td><td>460915a7  </td><td style=\"text-align: right;\">   0.00426841</td></tr>\n",
              "<tr><td>train_mnist_77566628</td><td>2023-03-27_18-06-06</td><td>True  </td><td>                </td><td>3cabc4dd929f40fab1b61d17724c55c8</td><td>6_lr=0.0001,momentum=0.3246 </td><td>9a427e40e973</td><td style=\"text-align: right;\">                        10</td><td style=\"text-align: right;\">       0.121875</td><td>172.28.0.12</td><td style=\"text-align: right;\"> 2685</td><td style=\"text-align: right;\">             7.38958</td><td style=\"text-align: right;\">          1.05184 </td><td style=\"text-align: right;\">       7.38958</td><td style=\"text-align: right;\"> 1679940366</td><td style=\"text-align: right;\">                        0</td><td>                 </td><td style=\"text-align: right;\">                  10</td><td>77566628  </td><td style=\"text-align: right;\">   0.00567818</td></tr>\n",
              "<tr><td>train_mnist_803d8b44</td><td>2023-03-27_18-05-53</td><td>True  </td><td>                </td><td>3cabc4dd929f40fab1b61d17724c55c8</td><td>2_lr=0.0005,momentum=0.5983 </td><td>9a427e40e973</td><td style=\"text-align: right;\">                        10</td><td style=\"text-align: right;\">       0.171875</td><td>172.28.0.12</td><td style=\"text-align: right;\"> 2685</td><td style=\"text-align: right;\">             8.41807</td><td style=\"text-align: right;\">          0.523894</td><td style=\"text-align: right;\">       8.41807</td><td style=\"text-align: right;\"> 1679940353</td><td style=\"text-align: right;\">                        0</td><td>                 </td><td style=\"text-align: right;\">                  10</td><td>803d8b44  </td><td style=\"text-align: right;\">   0.00567818</td></tr>\n",
              "<tr><td>train_mnist_837480c1</td><td>2023-03-27_18-05-59</td><td>True  </td><td>                </td><td>3cabc4dd929f40fab1b61d17724c55c8</td><td>4_lr=0.0003,momentum=0.4649 </td><td>9a427e40e973</td><td style=\"text-align: right;\">                        10</td><td style=\"text-align: right;\">       0.059375</td><td>172.28.0.12</td><td style=\"text-align: right;\"> 2685</td><td style=\"text-align: right;\">             5.40555</td><td style=\"text-align: right;\">          0.517209</td><td style=\"text-align: right;\">       5.40555</td><td style=\"text-align: right;\"> 1679940359</td><td style=\"text-align: right;\">                        0</td><td>                 </td><td style=\"text-align: right;\">                  10</td><td>837480c1  </td><td style=\"text-align: right;\">   0.00567818</td></tr>\n",
              "<tr><td>train_mnist_ae9aa6a7</td><td>2023-03-27_18-06-20</td><td>True  </td><td>                </td><td>3cabc4dd929f40fab1b61d17724c55c8</td><td>10_lr=0.0009,momentum=0.8879</td><td>9a427e40e973</td><td style=\"text-align: right;\">                        10</td><td style=\"text-align: right;\">       0.675   </td><td>172.28.0.12</td><td style=\"text-align: right;\"> 2685</td><td style=\"text-align: right;\">             7.02468</td><td style=\"text-align: right;\">          0.470002</td><td style=\"text-align: right;\">       7.02468</td><td style=\"text-align: right;\"> 1679940380</td><td style=\"text-align: right;\">                        0</td><td>                 </td><td style=\"text-align: right;\">                  10</td><td>ae9aa6a7  </td><td style=\"text-align: right;\">   0.00567818</td></tr>\n",
              "<tr><td>train_mnist_db0d6550</td><td>2023-03-27_18-06-02</td><td>True  </td><td>                </td><td>6ab68467b9fb4e0d8657f8edecfd3ff9</td><td>5_lr=0.0137,momentum=0.1605 </td><td>9a427e40e973</td><td style=\"text-align: right;\">                        10</td><td style=\"text-align: right;\">       0.825   </td><td>172.28.0.12</td><td style=\"text-align: right;\"> 2634</td><td style=\"text-align: right;\">             5.35438</td><td style=\"text-align: right;\">          0.525817</td><td style=\"text-align: right;\">       5.35438</td><td style=\"text-align: right;\"> 1679940362</td><td style=\"text-align: right;\">                        0</td><td>                 </td><td style=\"text-align: right;\">                  10</td><td>db0d6550  </td><td style=\"text-align: right;\">   0.00426841</td></tr>\n",
              "<tr><td>train_mnist_e58ef445</td><td>2023-03-27_18-05-50</td><td>True  </td><td>                </td><td>6ab68467b9fb4e0d8657f8edecfd3ff9</td><td>1_lr=0.0028,momentum=0.4239 </td><td>9a427e40e973</td><td style=\"text-align: right;\">                        10</td><td style=\"text-align: right;\">       0.64375 </td><td>172.28.0.12</td><td style=\"text-align: right;\"> 2634</td><td style=\"text-align: right;\">             9.71593</td><td style=\"text-align: right;\">          0.91399 </td><td style=\"text-align: right;\">       9.71593</td><td style=\"text-align: right;\"> 1679940350</td><td style=\"text-align: right;\">                        0</td><td>                 </td><td style=\"text-align: right;\">                  10</td><td>e58ef445  </td><td style=\"text-align: right;\">   0.00426841</td></tr>\n",
              "</tbody>\n",
              "</table>\n",
              "</div>\n",
              "<style>\n",
              ".trialProgress {\n",
              "  display: flex;\n",
              "  flex-direction: column;\n",
              "  color: var(--jp-ui-font-color1);\n",
              "}\n",
              ".trialProgress h3 {\n",
              "  font-weight: bold;\n",
              "}\n",
              ".trialProgress td {\n",
              "  white-space: nowrap;\n",
              "}\n",
              "</style>\n"
            ]
          },
          "metadata": {}
        },
        {
          "output_type": "stream",
          "name": "stderr",
          "text": [
            "2023-03-27 18:06:20,940\tINFO tune.py:798 -- Total run time: 44.64 seconds (44.57 seconds for the tuning loop).\n"
          ]
        }
      ]
    },
    {
      "cell_type": "markdown",
      "source": [
        "**Evaluating Your Model after Tuning**"
      ],
      "metadata": {
        "id": "nLr__TFVQZzJ"
      }
    },
    {
      "cell_type": "code",
      "source": [
        "import os\n",
        "\n",
        "logdir = results.get_best_result(\"mean_accuracy\", mode=\"max\").log_dir\n",
        "state_dict = torch.load(os.path.join(logdir, \"model.pth\"))\n",
        "\n",
        "model = ConvNet()\n",
        "model.load_state_dict(state_dict)"
      ],
      "metadata": {
        "colab": {
          "base_uri": "https://localhost:8080/"
        },
        "id": "s6SJNf88Qa5S",
        "outputId": "fc41ecdd-2743-4b04-c504-fffd9a2ebb72"
      },
      "execution_count": 11,
      "outputs": [
        {
          "output_type": "execute_result",
          "data": {
            "text/plain": [
              "<All keys matched successfully>"
            ]
          },
          "metadata": {},
          "execution_count": 11
        }
      ]
    }
  ]
}